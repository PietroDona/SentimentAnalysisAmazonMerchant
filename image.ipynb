{
 "cells": [
  {
   "cell_type": "markdown",
   "metadata": {},
   "source": [
    "# Image testing "
   ]
  },
  {
   "cell_type": "markdown",
   "metadata": {},
   "source": [
    "<img src=\"Pics/Delta_4.SVG\">"
   ]
  }
 ],
 "metadata": {
  "interpreter": {
   "hash": "6d1e49581fd79a84b9b87fb79b5ebab21cc1d5ac02d36809a21c866e26750f3d"
  },
  "kernelspec": {
   "display_name": "Python 3.8.10 64-bit ('scraper-env': venv)",
   "language": "python",
   "name": "python3"
  },
  "language_info": {
   "codemirror_mode": {
    "name": "ipython",
    "version": 3
   },
   "file_extension": ".py",
   "mimetype": "text/x-python",
   "name": "python",
   "nbconvert_exporter": "python",
   "pygments_lexer": "ipython3",
   "version": "3.8.10"
  },
  "orig_nbformat": 4
 },
 "nbformat": 4,
 "nbformat_minor": 2
}
