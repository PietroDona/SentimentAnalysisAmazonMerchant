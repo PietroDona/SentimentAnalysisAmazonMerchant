{
 "cells": [
  {
   "cell_type": "code",
   "execution_count": 1,
   "metadata": {},
   "outputs": [],
   "source": [
    "import ProductReviewScraper.amazon_review_database as db\n",
    "from ProductReviewScraper.models import Review, Product\n",
    "import pandas as pd\n",
    "from pathlib import Path\n"
   ]
  },
  {
   "cell_type": "code",
   "execution_count": 2,
   "metadata": {},
   "outputs": [],
   "source": [
    "df = pd.read_sql(\n",
    "    db.session.query(\n",
    "        Product, Review).filter(Review.product_id == Product.id, Product.asin == 'B000X457HO').statement,\n",
    "    con=db.engine\n",
    ")\n",
    "\n",
    "df.drop(['id', 'id_1', 'product_id'],\n",
    "        axis='columns', inplace=True)\n",
    "df.columns = ['product_asin', 'product_name',  'product_imageurl',\n",
    "              'product_price', 'product_global_rating', 'review_amazonid',\n",
    "              'review_user', 'review_rating', 'review_title',\n",
    "              'review_date', 'review_verified', 'review_foreign',\n",
    "              'review_content', 'review_helpful_vote']\n",
    "\n",
    "product_list = df['product_asin'].unique()\n"
   ]
  },
  {
   "cell_type": "markdown",
   "metadata": {},
   "source": [
    "English only reviews"
   ]
  },
  {
   "cell_type": "code",
   "execution_count": 3,
   "metadata": {},
   "outputs": [],
   "source": [
    "df = df[df[\"review_foreign\"] == False].copy()\n",
    "df.drop([\"review_foreign\"],\n",
    "        axis='columns', inplace=True)"
   ]
  },
  {
   "cell_type": "markdown",
   "metadata": {},
   "source": [
    "Clean unicode texts"
   ]
  },
  {
   "cell_type": "code",
   "execution_count": 4,
   "metadata": {},
   "outputs": [],
   "source": [
    "import unidecode\n",
    "df[\"review_content\"] = df[\"review_content\"].apply(unidecode.unidecode)\n",
    "df[\"review_title\"] = df[\"review_title\"].apply(unidecode.unidecode)\n",
    "df[\"product_name\"] = df[\"product_name\"].apply(unidecode.unidecode)"
   ]
  },
  {
   "cell_type": "code",
   "execution_count": 6,
   "metadata": {},
   "outputs": [],
   "source": [
    "#Last 4 years"
   ]
  },
  {
   "cell_type": "code",
   "execution_count": 10,
   "metadata": {},
   "outputs": [],
   "source": [
    "df['review_date'] = pd.to_datetime(df['review_date'])\n",
    "df4years = df[df['review_date'] >= \"2018-1-1\"]\n",
    "df_count = df4years.groupby(pd.Grouper(key='review_date', freq='W')).count()\n",
    "df_mean = df4years.groupby(pd.Grouper(key='review_date', freq='W')).mean()\n",
    "weekly_reviews = pd.DataFrame(\n",
    "    {'Date': df_mean.index, 'Mean': df_mean.review_rating, 'AveragedMean': df_mean.review_rating.rolling(4, center=True).mean(), 'Count': df_count.review_rating, 'AveragedCount': df_count.review_rating.rolling(4, center=True).mean()})\n",
    "weekly_reviews.to_csv()"
   ]
  },
  {
   "cell_type": "code",
   "execution_count": 8,
   "metadata": {},
   "outputs": [
    {
     "data": {
      "text/plain": [
       "3147"
      ]
     },
     "execution_count": 8,
     "metadata": {},
     "output_type": "execute_result"
    }
   ],
   "source": [
    "len(df4years)\n"
   ]
  },
  {
   "cell_type": "code",
   "execution_count": 30,
   "metadata": {},
   "outputs": [],
   "source": [
    "\n",
    "df_count = df4years.groupby(pd.Grouper(key='review_date', freq='W')).count()\n",
    "df_mean = df4years.groupby(pd.Grouper(key='review_date', freq='W')).mean()\n",
    "weekly_reviews = pd.DataFrame(\n",
    "    {'Date': df_mean.index, 'Mean': df_mean.review_rating, 'AveragedMean': df_mean.review_rating.rolling(4, center=True).mean(), 'Count': df_count.review_rating, 'AveragedCount': df_count.review_rating.rolling(4, center=True).mean()})\n"
   ]
  },
  {
   "cell_type": "code",
   "execution_count": 31,
   "metadata": {},
   "outputs": [
    {
     "data": {
      "text/html": [
       "<div>\n",
       "<style scoped>\n",
       "    .dataframe tbody tr th:only-of-type {\n",
       "        vertical-align: middle;\n",
       "    }\n",
       "\n",
       "    .dataframe tbody tr th {\n",
       "        vertical-align: top;\n",
       "    }\n",
       "\n",
       "    .dataframe thead th {\n",
       "        text-align: right;\n",
       "    }\n",
       "</style>\n",
       "<table border=\"1\" class=\"dataframe\">\n",
       "  <thead>\n",
       "    <tr style=\"text-align: right;\">\n",
       "      <th></th>\n",
       "      <th>Date</th>\n",
       "      <th>Mean</th>\n",
       "      <th>AveragedMean</th>\n",
       "      <th>Count</th>\n",
       "      <th>AveragedCount</th>\n",
       "    </tr>\n",
       "    <tr>\n",
       "      <th>review_date</th>\n",
       "      <th></th>\n",
       "      <th></th>\n",
       "      <th></th>\n",
       "      <th></th>\n",
       "      <th></th>\n",
       "    </tr>\n",
       "  </thead>\n",
       "  <tbody>\n",
       "    <tr>\n",
       "      <th>2018-01-07</th>\n",
       "      <td>2018-01-07</td>\n",
       "      <td>3.666667</td>\n",
       "      <td>NaN</td>\n",
       "      <td>6</td>\n",
       "      <td>NaN</td>\n",
       "    </tr>\n",
       "    <tr>\n",
       "      <th>2018-01-14</th>\n",
       "      <td>2018-01-14</td>\n",
       "      <td>4.416667</td>\n",
       "      <td>NaN</td>\n",
       "      <td>12</td>\n",
       "      <td>NaN</td>\n",
       "    </tr>\n",
       "    <tr>\n",
       "      <th>2018-01-21</th>\n",
       "      <td>2018-01-21</td>\n",
       "      <td>4.857143</td>\n",
       "      <td>4.406994</td>\n",
       "      <td>7</td>\n",
       "      <td>10.25</td>\n",
       "    </tr>\n",
       "    <tr>\n",
       "      <th>2018-01-28</th>\n",
       "      <td>2018-01-28</td>\n",
       "      <td>4.687500</td>\n",
       "      <td>4.432635</td>\n",
       "      <td>16</td>\n",
       "      <td>12.00</td>\n",
       "    </tr>\n",
       "    <tr>\n",
       "      <th>2018-02-04</th>\n",
       "      <td>2018-02-04</td>\n",
       "      <td>3.769231</td>\n",
       "      <td>4.132040</td>\n",
       "      <td>13</td>\n",
       "      <td>12.50</td>\n",
       "    </tr>\n",
       "    <tr>\n",
       "      <th>...</th>\n",
       "      <td>...</td>\n",
       "      <td>...</td>\n",
       "      <td>...</td>\n",
       "      <td>...</td>\n",
       "      <td>...</td>\n",
       "    </tr>\n",
       "    <tr>\n",
       "      <th>2022-01-23</th>\n",
       "      <td>2022-01-23</td>\n",
       "      <td>4.000000</td>\n",
       "      <td>3.789881</td>\n",
       "      <td>8</td>\n",
       "      <td>17.25</td>\n",
       "    </tr>\n",
       "    <tr>\n",
       "      <th>2022-01-30</th>\n",
       "      <td>2022-01-30</td>\n",
       "      <td>3.350000</td>\n",
       "      <td>3.704167</td>\n",
       "      <td>20</td>\n",
       "      <td>15.75</td>\n",
       "    </tr>\n",
       "    <tr>\n",
       "      <th>2022-02-06</th>\n",
       "      <td>2022-02-06</td>\n",
       "      <td>3.466667</td>\n",
       "      <td>3.759722</td>\n",
       "      <td>15</td>\n",
       "      <td>13.00</td>\n",
       "    </tr>\n",
       "    <tr>\n",
       "      <th>2022-02-13</th>\n",
       "      <td>2022-02-13</td>\n",
       "      <td>4.222222</td>\n",
       "      <td>3.704167</td>\n",
       "      <td>9</td>\n",
       "      <td>15.50</td>\n",
       "    </tr>\n",
       "    <tr>\n",
       "      <th>2022-02-20</th>\n",
       "      <td>2022-02-20</td>\n",
       "      <td>3.777778</td>\n",
       "      <td>NaN</td>\n",
       "      <td>18</td>\n",
       "      <td>NaN</td>\n",
       "    </tr>\n",
       "  </tbody>\n",
       "</table>\n",
       "<p>216 rows × 5 columns</p>\n",
       "</div>"
      ],
      "text/plain": [
       "                  Date      Mean  AveragedMean  Count  AveragedCount\n",
       "review_date                                                         \n",
       "2018-01-07  2018-01-07  3.666667           NaN      6            NaN\n",
       "2018-01-14  2018-01-14  4.416667           NaN     12            NaN\n",
       "2018-01-21  2018-01-21  4.857143      4.406994      7          10.25\n",
       "2018-01-28  2018-01-28  4.687500      4.432635     16          12.00\n",
       "2018-02-04  2018-02-04  3.769231      4.132040     13          12.50\n",
       "...                ...       ...           ...    ...            ...\n",
       "2022-01-23  2022-01-23  4.000000      3.789881      8          17.25\n",
       "2022-01-30  2022-01-30  3.350000      3.704167     20          15.75\n",
       "2022-02-06  2022-02-06  3.466667      3.759722     15          13.00\n",
       "2022-02-13  2022-02-13  4.222222      3.704167      9          15.50\n",
       "2022-02-20  2022-02-20  3.777778           NaN     18            NaN\n",
       "\n",
       "[216 rows x 5 columns]"
      ]
     },
     "execution_count": 31,
     "metadata": {},
     "output_type": "execute_result"
    }
   ],
   "source": [
    "weekly_reviews"
   ]
  },
  {
   "cell_type": "code",
   "execution_count": 19,
   "metadata": {},
   "outputs": [],
   "source": [
    "import seaborn as sns"
   ]
  },
  {
   "cell_type": "code",
   "execution_count": 26,
   "metadata": {},
   "outputs": [
    {
     "data": {
      "text/plain": [
       "<AxesSubplot:xlabel='Date', ylabel='Count'>"
      ]
     },
     "execution_count": 26,
     "metadata": {},
     "output_type": "execute_result"
    },
    {
     "data": {
      "image/png": "[encoded data removed]",
      "text/plain": [
       "<Figure size 432x288 with 1 Axes>"
      ]
     },
     "metadata": {
      "needs_background": "light"
     },
     "output_type": "display_data"
    }
   ],
   "source": [
    "sns.lineplot(x=weekly_reviews[\"Date\"],\n",
    "             y=weekly_reviews[\"Count\"].rolling(window=4).mean())\n"
   ]
  },
  {
   "cell_type": "code",
   "execution_count": null,
   "metadata": {},
   "outputs": [],
   "source": []
  },
  {
   "cell_type": "code",
   "execution_count": null,
   "metadata": {},
   "outputs": [],
   "source": []
  }
 ],
 "metadata": {
  "interpreter": {
   "hash": "d8915c1abd490d094a9c0bd3efca1aaafbc86b5f7bcd7166c84b94176c5db6f9"
  },
  "kernelspec": {
   "display_name": "Python 3.8.10 ('scrapeamazon': venv)",
   "language": "python",
   "name": "python3"
  },
  "language_info": {
   "codemirror_mode": {
    "name": "ipython",
    "version": 3
   },
   "file_extension": ".py",
   "mimetype": "text/x-python",
   "name": "python",
   "nbconvert_exporter": "python",
   "pygments_lexer": "ipython3",
   "version": "3.8.10"
  },
  "orig_nbformat": 4
 },
 "nbformat": 4,
 "nbformat_minor": 2
}
