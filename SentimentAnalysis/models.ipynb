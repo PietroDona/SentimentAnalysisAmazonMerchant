{
 "cells": [
  {
   "cell_type": "markdown",
   "metadata": {},
   "source": [
    "# Setup"
   ]
  },
  {
   "cell_type": "code",
   "execution_count": 1,
   "metadata": {},
   "outputs": [
    {
     "name": "stdout",
     "output_type": "stream",
     "text": [
      "/home/pdona/VariousExercises/SentimentAnalysisAmazonMerchant\n"
     ]
    }
   ],
   "source": [
    "%cd .."
   ]
  },
  {
   "cell_type": "code",
   "execution_count": 3,
   "metadata": {},
   "outputs": [],
   "source": [
    "import pandas as pd\n",
    "from nltk.corpus import stopwords\n",
    "import unicodedata\n",
    "from nltk.tokenize import word_tokenize\n",
    "from nltk.stem import PorterStemmer, WordNetLemmatizer\n",
    "import nltk\n",
    "import re"
   ]
  },
  {
   "cell_type": "markdown",
   "metadata": {},
   "source": [
    "### Clean the data"
   ]
  },
  {
   "cell_type": "code",
   "execution_count": null,
   "metadata": {},
   "outputs": [],
   "source": [
    "# Define function to expand contractions\n",
    "def expand_contractions(text):\n",
    "    contractions_pattern = re.compile(\n",
    "        f\"({'|'.join(CONTRACTION_MAP.keys())})\", flags=re.IGNORECASE | re.DOTALL)\n",
    "\n",
    "    def expand_match(contraction):\n",
    "        match = contraction.group(0)\n",
    "        first_char = match[0]\n",
    "        expanded_contraction = CONTRACTION_MAP.get(match)\\\n",
    "            if CONTRACTION_MAP.get(match)\\\n",
    "            else CONTRACTION_MAP.get(match.lower())\n",
    "        expanded_contraction = first_char+expanded_contraction[1:]\n",
    "        return expanded_contraction\n",
    "\n",
    "    expanded_text = contractions_pattern.sub(expand_match, text)\n",
    "    expanded_text = re.sub(\"'\", \"\", expanded_text)\n",
    "    return expanded_text\n"
   ]
  },
  {
   "cell_type": "code",
   "execution_count": null,
   "metadata": {},
   "outputs": [],
   "source": [
    "def normalize_text(text: str) -> str:\n",
    "    tmp_text = text.lower()\n",
    "    tmp_text = expand_contractions(tmp_text)\n",
    "    tmp_text = unicodedata.normalize('NFKD', tmp_text).encode(\n",
    "        'ascii', 'ignore').decode('utf-8', 'ignore')\n",
    "    tmp_text = re.sub(r'[^a-zA-z\\s]', ' ', tmp_text)\n",
    "\n",
    "    words = nltk.word_tokenize(tmp_text)\n",
    "\n",
    "    stopword_list = stopwords.words('english')+['the', 'a', 'an', 'i', 'he', 'she', 'they', 'to', 'of', 'it', 'from']\n",
    "    stopword_list.remove('no')\n",
    "    stopword_list.remove('not')\n",
    "    words = [w for w in words if w not in stopword_list]\n",
    "\n",
    "    # lemmatizer = WordNetLemmatizer()\n",
    "    # lemmas = [lemmatizer.lemmatize(w, pos='v') for w in words]\n",
    "    return ' '.join(words)\n"
   ]
  },
  {
   "cell_type": "markdown",
   "metadata": {},
   "source": [
    "### Load data from database"
   ]
  },
  {
   "cell_type": "code",
   "execution_count": 3,
   "metadata": {},
   "outputs": [],
   "source": [
    "df = pd.read_csv('SentimentAnalysis/data/AnkerAmazonReviews.csv')"
   ]
  },
  {
   "cell_type": "code",
   "execution_count": 5,
   "metadata": {},
   "outputs": [
    {
     "data": {
      "text/plain": [
       "Index(['Unnamed: 0', 'merchant_token', 'merchant_name', 'product_asin',\n",
       "       'product_name', 'product_average_review', 'review_user',\n",
       "       'review_rating', 'review_title', 'review_date', 'review_verified',\n",
       "       'review_content', 'review_helpful_vote', 'review_helpful',\n",
       "       'review_length', 'review_polarity', 'review_subjectivity',\n",
       "       'review_content_clean', 'review_title_clean',\n",
       "       'review_content_clean_wotitle', 'review_title_clean_wotitle'],\n",
       "      dtype='object')"
      ]
     },
     "execution_count": 5,
     "metadata": {},
     "output_type": "execute_result"
    }
   ],
   "source": [
    "df.columns"
   ]
  },
  {
   "cell_type": "code",
   "execution_count": 12,
   "metadata": {},
   "outputs": [],
   "source": [
    "df.dropna(inplace=True)"
   ]
  },
  {
   "cell_type": "markdown",
   "metadata": {},
   "source": [
    "# Model definition - Bag of Words"
   ]
  },
  {
   "cell_type": "markdown",
   "metadata": {},
   "source": [
    "TF-IDF aims to quantify the importance of a given word relative to other words in the document and in the corpus.\n",
    "\n",
    "One tool we can use for doing this is called Bag of Words. BoW is a classical text representation technique"
   ]
  },
  {
   "cell_type": "code",
   "execution_count": 4,
   "metadata": {},
   "outputs": [],
   "source": [
    "from sklearn.feature_extraction.text import CountVectorizer"
   ]
  },
  {
   "cell_type": "code",
   "execution_count": 33,
   "metadata": {},
   "outputs": [],
   "source": [
    "vectorizer = CountVectorizer()\n",
    "BoW = vectorizer.fit_transform(list(df[\"review_content_clean\"]))\n"
   ]
  },
  {
   "cell_type": "code",
   "execution_count": 34,
   "metadata": {},
   "outputs": [
    {
     "data": {
      "text/plain": [
       "array(['__', '___', '____', ..., 'zyxr', 'zz', 'zzzzzzzzzz'], dtype=object)"
      ]
     },
     "execution_count": 34,
     "metadata": {},
     "output_type": "execute_result"
    }
   ],
   "source": [
    "vectorizer.get_feature_names_out()\n"
   ]
  },
  {
   "cell_type": "code",
   "execution_count": 27,
   "metadata": {},
   "outputs": [],
   "source": [
    "test = list(df[\"review_content_clean\"].sample(5))"
   ]
  },
  {
   "cell_type": "code",
   "execution_count": 28,
   "metadata": {},
   "outputs": [
    {
     "data": {
      "text/plain": [
       "['got one wifes iphone xr really likes solid starts every time sets phone',\n",
       " 'returned',\n",
       " 'im liking job reading micro sd card like wanted im happy product',\n",
       " 'charging well update time goes charging cables usually go months far holding well',\n",
       " 'space saver cute design needed phone fit lamp diffuser big strip night stand ugly unnecessary perfect howver not charge phone via usb well super slow overcharge phone percent percent']"
      ]
     },
     "execution_count": 28,
     "metadata": {},
     "output_type": "execute_result"
    }
   ],
   "source": [
    "test"
   ]
  },
  {
   "cell_type": "code",
   "execution_count": 35,
   "metadata": {},
   "outputs": [],
   "source": [
    "from textblob import classifiers"
   ]
  },
  {
   "cell_type": "code",
   "execution_count": 36,
   "metadata": {},
   "outputs": [],
   "source": [
    "training = [\n",
    "    ('Tom Holland is a terrible spiderman.', 'pos'),\n",
    "    ('a terrible Javert (Russell Crowe) ruined Les Miserables for me...', 'pos'),\n",
    "    ('The Dark Knight Rises is the greatest superhero movie ever!', 'neg'),\n",
    "    ('Fantastic Four should have never been made.', 'pos'),\n",
    "    ('Wes Anderson is my favorite director!', 'neg'),\n",
    "    ('Captain America 2 is pretty awesome.', 'neg'),\n",
    "    ('Let\\s pretend \"Batman and Robin\" never happened..', 'pos'),\n",
    "]\n",
    "testing = [\n",
    "    ('Superman was never an interesting character.', 'pos'),\n",
    "    ('Fantastic Mr Fox is an awesome film!', 'neg'),\n",
    "    ('Dragonball Evolution is simply terrible!!', 'pos')\n",
    "]\n"
   ]
  },
  {
   "cell_type": "code",
   "execution_count": 37,
   "metadata": {},
   "outputs": [],
   "source": [
    "classifier = classifiers.NaiveBayesClassifier(training)"
   ]
  },
  {
   "cell_type": "code",
   "execution_count": null,
   "metadata": {},
   "outputs": [],
   "source": []
  }
 ],
 "metadata": {
  "interpreter": {
   "hash": "6d1e49581fd79a84b9b87fb79b5ebab21cc1d5ac02d36809a21c866e26750f3d"
  },
  "kernelspec": {
   "display_name": "Python 3.8.10 64-bit ('scraper-env': venv)",
   "language": "python",
   "name": "python3"
  },
  "language_info": {
   "codemirror_mode": {
    "name": "ipython",
    "version": 3
   },
   "file_extension": ".py",
   "mimetype": "text/x-python",
   "name": "python",
   "nbconvert_exporter": "python",
   "pygments_lexer": "ipython3",
   "version": "3.8.10"
  },
  "orig_nbformat": 4
 },
 "nbformat": 4,
 "nbformat_minor": 2
}
