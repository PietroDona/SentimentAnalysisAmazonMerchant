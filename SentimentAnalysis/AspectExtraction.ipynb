{
 "cells": [
  {
   "cell_type": "markdown",
   "metadata": {},
   "source": [
    "* Aspect-based opinion mining focuses on the extraction of aspects (or product features) from opinionated text"
   ]
  },
  {
   "cell_type": "markdown",
   "metadata": {},
   "source": [
    "* **Explicit** aspects explicitly denote targets \n",
    "  - e.g. I love the *touchscreen* of my phone but the *battery life* is so short"
   ]
  },
  {
   "cell_type": "markdown",
   "metadata": {},
   "source": [
    "* Aspect can also be expressed indirectly through an **implicit aspect clue** (IAC)\n",
    "    - e.g. This is the best phone one could have. It is *lightweight*, *sleek* and *attractive*. I found it very *user-friendly* and *easy to manipulate*\n",
    "    - `lightweight` -> weight; \n",
    "    - `sleek` and `attractive`  -> appearance; \n",
    "    - `user-friendly`  -> interface; \n",
    "    - `easy to manipulate` -> functionality"
   ]
  },
  {
   "cell_type": "markdown",
   "metadata": {},
   "source": [
    "* Detect explicit aspects and IACs from opinionated documents.\n",
    "* Map IACs to their respective aspect **categories**.\n",
    "* IACs = single words (`sleek`) or multi-word expressions (`easy to manipulate`); different part-of-speech (POS) (adjectives, noun, verbs);"
   ]
  },
  {
   "cell_type": "markdown",
   "metadata": {},
   "source": [
    "The proposed aspect parser is based on two general rules:\n",
    "1. Rules for the sentences having subject verb.\n",
    "2. Rules for the sentences which do not have subject verb."
   ]
  },
  {
   "cell_type": "code",
   "execution_count": 29,
   "metadata": {},
   "outputs": [],
   "source": [
    "import spacy\n",
    "nlp = spacy.load('en_core_web_md')"
   ]
  },
  {
   "cell_type": "code",
   "execution_count": 136,
   "metadata": {},
   "outputs": [],
   "source": [
    "def explore(doc):\n",
    "    for t in doc:\n",
    "        print(t, t.dep_, t.pos_,t.tag_, [c for c in t.children], t.head,t.i)"
   ]
  },
  {
   "cell_type": "markdown",
   "metadata": {},
   "source": [
    "### Subject Noun Rule:\n",
    "* **Trigger**: token is a syntactic subject\n",
    "* **Behavior**: if token *h* subject-noun (nsubj) relationship with word t:\n",
    "    - if t has any adverbial or adjective modifier = t aspect"
   ]
  },
  {
   "cell_type": "markdown",
   "metadata": {},
   "source": [
    "- if t has any adverbial or adjective modifier and the modifier exists in SenticNet, then t is extracted as an aspect."
   ]
  },
  {
   "cell_type": "code",
   "execution_count": 227,
   "metadata": {},
   "outputs": [],
   "source": [
    "def rule1(doc):\n",
    "    '''\n",
    "    Aspect extraction following Subject Noun Rule 1\n",
    "    There is a subject of t that has any adverbial or adjective modifier.\n",
    "    T is the aspect\n",
    "    '''\n",
    "    for token in doc:\n",
    "        if token.dep_ in [\"nsubj\", \"nsubjpass\"]:\n",
    "            for child in token.head.children:\n",
    "                if child.dep_ in [\"amod\", \"advmod\"]:\n",
    "                    #if child is in SenticNet\n",
    "                    print(token.head)\n"
   ]
  },
  {
   "cell_type": "code",
   "execution_count": 228,
   "metadata": {},
   "outputs": [
    {
     "name": "stdout",
     "output_type": "stream",
     "text": [
      "costs\n"
     ]
    }
   ],
   "source": [
    "doc = nlp(\"This mp3 player also costs a lot less than the ipod.\")\n",
    "rule1(doc)\n"
   ]
  },
  {
   "cell_type": "markdown",
   "metadata": {},
   "source": [
    "* if the sentence does not have auxiliary verb, i.e., `is`, `was`, `would`, `should`, `could`, then:\n",
    "    - if the verb t is modified by an adjective or an adverb or it is in adverbial clause modifier relation with another token, then both h and t are extracted as aspects. In EX, battery is in a subject relation with lasts and lasts is modified by the adjective modifier little, hence both the aspects last and battery are extracted.\n",
    "      - *The battery lasts little.*\n",
    "    - if t has any direct object relation with a token n and the POS of the token is `Noun` then n is extracted as an aspect. In EX, like is in direct object relation with lens so the aspect lens is extracted. \n",
    "      - *I like the lens of this camera.*\n",
    "    - if t has any direct object relation with a token n and the POS of the token is `Noun`, then the token n extracted as aspect. In the dependency parse tree of the sentence, if another token n1 is connected to n using any dependency relation and the POS of n is Noun, then n1 is extracted as an aspect. In (3), like is in direct object relation with beauty which is connected to screen via a preposition relation. So the aspects screen and beauty are extracted.\n",
    "      - *I like the beauty of the screen.*\n",
    "    - if t is in open clausal complement relation with a token t1 , then the aspect t-t1 is extracted if t-t1 exists in the opinion lexicon. If t1 is connected with a token t2 whose POS is Noun, then t2 is extracted as an aspect. In EX, like and comment is in clausal complement relation and comment is connected to camera using a preposition relation. Here, the POS of camera is Noun and, hence, camera is extracted as an aspect.\n",
    "      - I would like to comment on the camera of this phone. "
   ]
  },
  {
   "cell_type": "code",
   "execution_count": 231,
   "metadata": {},
   "outputs": [],
   "source": [
    "def rule2(doc):\n",
    "    '''\n",
    "    Aspect extraction following Subject Noun Rule 2\n",
    "    Sentence without auxiliary verbs and t with adjective, adverbial or adverbial modifier clause with another token -> h and t are aspects\n",
    "    or with direct object relation with a NOUN n, n is aspect if in SentiNet\n",
    "    or with direct object relation with a NOUN n and not in SentiNet derive list of connected nouns and that is aspect\n",
    "    or open clausal complement with another token\n",
    "    '''\n",
    "    for token in doc:\n",
    "        if token.dep_ in [\"nsubj\", \"nsubjpass\"]:\n",
    "            #check if an AUX is present\n",
    "            aux_presence = [t for t in doc if t.pos_ == \"AUX\"]\n",
    "            for child in token.head.children:\n",
    "                if child.dep_ in [\"amod\", \"advmod\", \"advcl\"] and not aux_presence:\n",
    "                    print(token, token.head)\n",
    "                if child.dep_ == \"dobj\" and child.pos_ == \"NOUN\" and not aux_presence:\n",
    "                    #if child is in SenticNet\n",
    "                    print(child)\n",
    "                    #if not\n",
    "                    print([child]+[cococ for coc in child.children if coc.pos_ ==\n",
    "                                \"ADP\" for cococ in coc.children if cococ.pos_ == \"NOUN\"])\n",
    "                if child.dep_ == \"xcomp\":\n",
    "                    #if [child,coc] is in SenticNet\n",
    "                    print([[child, coc] for coc in child.children])\n",
    "                    #if not look for\n",
    "                    print(\n",
    "                        [cococ for coc in child.children for cococ in coc.children if cococ.pos_ == \"NOUN\"])\n"
   ]
  },
  {
   "cell_type": "code",
   "execution_count": 232,
   "metadata": {},
   "outputs": [
    {
     "name": "stdout",
     "output_type": "stream",
     "text": [
      "EXAMPLE 1: The battery lasts little.\n",
      "battery lasts\n",
      "EXAMPLE 2: I like the lens of this camera.\n",
      "lens\n",
      "[lens, camera]\n",
      "EXAMPLE 3: I like the beauty of the screen.\n",
      "beauty\n",
      "[beauty, screen]\n",
      "EXAMPLE 4: I would like to comment on the camera of this phone.\n",
      "[[comment, to], [comment, on]]\n",
      "[camera]\n"
     ]
    }
   ],
   "source": [
    "doc = nlp(\"The battery lasts little.\")\n",
    "print(f\"EXAMPLE 1: {doc}\")\n",
    "rule2(doc)\n",
    "doc = nlp(\"I like the lens of this camera.\")\n",
    "print(f\"EXAMPLE 2: {doc}\")\n",
    "rule2(doc)\n",
    "doc = nlp(\"I like the beauty of the screen.\")\n",
    "print(f\"EXAMPLE 3: {doc}\")\n",
    "rule2(doc)\n",
    "doc = nlp(\"I would like to comment on the camera of this phone.\")\n",
    "print(f\"EXAMPLE 4: {doc}\")\n",
    "rule2(doc)\n"
   ]
  },
  {
   "cell_type": "markdown",
   "metadata": {},
   "source": [
    "- A copula is the relation between the complement of a copular verb and the copular verb. If the token t is in copula relation with a copular verb and the copular verb exists in the implicit aspect lexicon, then t is extract as aspect term. In EX, expensive is extracted as an aspect.\n",
    "  - *The car is expensive.*"
   ]
  },
  {
   "cell_type": "code",
   "execution_count": 235,
   "metadata": {},
   "outputs": [],
   "source": [
    "def rule3(doc):\n",
    "    '''\n",
    "    Subject Noun Rule\n",
    "    Sentence with auxiliary verb (copula) and token as complement -> token is aspect\n",
    "    '''\n",
    "    for token in doc:\n",
    "        if token.dep_ in [\"nsubj\", \"nsubjpass\"]:\n",
    "            for child in token.head.children:\n",
    "                if child.dep_ in [\"acomp\"] and token.head.pos_==\"AUX\":\n",
    "                    #check if child exists in the implicit aspect lexicon\n",
    "                    print(child)\n"
   ]
  },
  {
   "cell_type": "code",
   "execution_count": 234,
   "metadata": {},
   "outputs": [
    {
     "data": {
      "text/plain": [
       "expensive"
      ]
     },
     "execution_count": 234,
     "metadata": {},
     "output_type": "execute_result"
    }
   ],
   "source": [
    "doc = nlp(\"The car is expensive.\")\n",
    "rule3(doc)"
   ]
  },
  {
   "cell_type": "markdown",
   "metadata": {},
   "source": [
    "- If the token t is in copula relation with a copular verb and the POS of h is Noun, then h is extracted as an explicit aspect. In EX, camera is extracted as an aspect. \n",
    "  - *The camera is nice.*"
   ]
  },
  {
   "cell_type": "code",
   "execution_count": 236,
   "metadata": {},
   "outputs": [],
   "source": [
    "def rule4(doc):\n",
    "    '''\n",
    "    Subject Noun Rule\n",
    "    Sentence with auxiliary verb (copula) and token as complement and a Noun -> noun is aspect\n",
    "    '''\n",
    "    for token in doc:\n",
    "        if token.dep_ in [\"nsubj\", \"nsubjpass\"]:\n",
    "            for child in token.head.children:\n",
    "                if child.dep_ in [\"acomp\"] and token.head.pos_ == \"AUX\" and token.pos_==\"NOUN\":\n",
    "                    print(token)\n"
   ]
  },
  {
   "cell_type": "code",
   "execution_count": 237,
   "metadata": {},
   "outputs": [
    {
     "name": "stdout",
     "output_type": "stream",
     "text": [
      "camera\n"
     ]
    }
   ],
   "source": [
    "doc = nlp(\"The camera is nice.\")\n",
    "rule4(doc)"
   ]
  },
  {
   "cell_type": "markdown",
   "metadata": {},
   "source": [
    "- If the token t is in copula relation with a copular verb and the copular verb is connected to a token t1 using any dependency relation and t1 is a verb, then both t1 and t are extracted as implicit aspect terms, as long as they exist in the implicit aspect lexicon. In EX, lightweight is in copula relation with is and lightweight is connected to the word carry by open clausal complement relation. Here, both lightweight and carry are extracted as aspects.\n",
    "  - *The phone is very lightweight to carry.*"
   ]
  },
  {
   "cell_type": "code",
   "execution_count": 238,
   "metadata": {},
   "outputs": [],
   "source": [
    "def rule5(doc):\n",
    "    '''\n",
    "    Subject Noun Rule\n",
    "    Sentence with auxiliary verb (copula) and token as complement and a Noun -> noun is aspect\n",
    "    '''\n",
    "    for token in doc:\n",
    "        if token.dep_ in [\"nsubj\", \"nsubjpass\"]:\n",
    "            for child in token.head.children:\n",
    "                if child.dep_ in [\"acomp\"] and token.head.pos_ == \"AUX\":\n",
    "                    # check if  child and coc exists in the implicit aspect lexicon\n",
    "                    print(\n",
    "                        [child]+[coc for coc in child.children if coc.pos_ == \"VERB\"])\n"
   ]
  },
  {
   "cell_type": "code",
   "execution_count": 239,
   "metadata": {},
   "outputs": [
    {
     "name": "stdout",
     "output_type": "stream",
     "text": [
      "[lightweight, carry]\n"
     ]
    }
   ],
   "source": [
    "doc=nlp(\"The phone is very lightweight to carry.\")\n",
    "rule5(doc)"
   ]
  },
  {
   "cell_type": "markdown",
   "metadata": {},
   "source": [
    "### NON subject noun rules"
   ]
  },
  {
   "cell_type": "markdown",
   "metadata": {},
   "source": [
    "- if an `adjective` or `adverb` h is in `infinitival` or `open clausal complement` (ccomp, xcomp) relation with a token t and h exists in the implicit aspect lexicon, then h is extracted as an aspect. In EX, big is extracted as an aspect as it is connected to hold using a clausal complement relation.\n",
    "    - Very big to hold."
   ]
  },
  {
   "cell_type": "code",
   "execution_count": 240,
   "metadata": {},
   "outputs": [],
   "source": [
    "def rule6(doc):\n",
    "    '''\n",
    "    NO Subject Noun Rule\n",
    "    Sentence with adjective or adverb h in infinitival or open clausal complement -> if h in IAC lexicon -> h aspect\n",
    "    '''\n",
    "    for token in doc:\n",
    "        if token.pos_ in [\"ADJ\", \"ADV\"]:\n",
    "            for child in token.children:\n",
    "                if child.dep_ in [\"ccomp\", \"xcomp\"]:\n",
    "                    # if token is in IAC lexicon\n",
    "                    print(token)\n"
   ]
  },
  {
   "cell_type": "code",
   "execution_count": 241,
   "metadata": {},
   "outputs": [
    {
     "name": "stdout",
     "output_type": "stream",
     "text": [
      "big\n"
     ]
    }
   ],
   "source": [
    "doc = nlp(\"Very big to hold.\")\n",
    "rule6(doc)"
   ]
  },
  {
   "cell_type": "markdown",
   "metadata": {},
   "source": [
    "- if a token h is connected to a noun t using a prepositional relation, then both h and t are extracted as aspects. In EX, sleekness is extracted as an aspect.\n",
    "    - *Love the sleekness of the player.*"
   ]
  },
  {
   "cell_type": "code",
   "execution_count": 242,
   "metadata": {},
   "outputs": [],
   "source": [
    "def rule7(doc):\n",
    "    '''\n",
    "    NO Subject Noun Rule\n",
    "    h token connected to noun t through preposition -> h+t aspect\n",
    "    '''\n",
    "    for token in doc:\n",
    "        for child in token.children:\n",
    "            if child.dep_ == \"prep\":\n",
    "                for child_of_child in child.children:\n",
    "                    if child_of_child.pos_==\"NOUN\":\n",
    "                        print(token,child_of_child)\n"
   ]
  },
  {
   "cell_type": "code",
   "execution_count": 243,
   "metadata": {},
   "outputs": [
    {
     "name": "stdout",
     "output_type": "stream",
     "text": [
      "sleekness player\n"
     ]
    }
   ],
   "source": [
    "doc = nlp(\"Love the sleekness of the player.\")\n",
    "rule7(doc)"
   ]
  },
  {
   "cell_type": "markdown",
   "metadata": {},
   "source": [
    "- if a token h is in a direct object relation (`dobj`) with a token t, t is extracted as aspect. In EX, mention is in a direct object relation with price, hence price is extracted as an aspect.\n",
    "    - Not to mention the price of the phone."
   ]
  },
  {
   "cell_type": "code",
   "execution_count": 244,
   "metadata": {},
   "outputs": [],
   "source": [
    "def rule8(doc):\n",
    "    '''\n",
    "    NO Subject Noun Rule\n",
    "    h token connected with direct object with t -> t aspect\n",
    "    '''\n",
    "    for token in doc:\n",
    "        for child in token.children:\n",
    "            if child.dep_ == \"dobj\":\n",
    "                print(child)\n"
   ]
  },
  {
   "cell_type": "code",
   "execution_count": 245,
   "metadata": {},
   "outputs": [
    {
     "name": "stdout",
     "output_type": "stream",
     "text": [
      "price\n"
     ]
    }
   ],
   "source": [
    "doc = nlp(\"Not to mention the price of the phone.\")\n",
    "rule8(doc)"
   ]
  },
  {
   "cell_type": "markdown",
   "metadata": {},
   "source": [
    "### Additional rules"
   ]
  },
  {
   "cell_type": "markdown",
   "metadata": {},
   "source": [
    "- For each aspect term extracted above, if an aspect term h is in co-ordination or conjunct relation with another token t, then t is also extracted as an aspect. In EX, amazing is firstly extracted as an aspect term. As amazing is in conjunct relation with easy, then use is also extracted as an aspect.\n",
    "    - *The camera is amazing and easy to use.*"
   ]
  },
  {
   "cell_type": "code",
   "execution_count": 246,
   "metadata": {},
   "outputs": [],
   "source": [
    "doc = nlp(\"The camera is amazing or easy to use.\")\n"
   ]
  },
  {
   "cell_type": "code",
   "execution_count": 208,
   "metadata": {},
   "outputs": [],
   "source": [
    "test = rule3(doc)"
   ]
  },
  {
   "cell_type": "code",
   "execution_count": 210,
   "metadata": {},
   "outputs": [
    {
     "data": {
      "text/plain": [
       "[use]"
      ]
     },
     "execution_count": 210,
     "metadata": {},
     "output_type": "execute_result"
    }
   ],
   "source": [
    "[coc for c in test.children if c.dep_ in [\"conj\"]\n",
    "    for coc in c.children if coc.dep_ == \"xcomp\"]\n"
   ]
  },
  {
   "cell_type": "markdown",
   "metadata": {},
   "source": [
    "- A noun compound modifier of an NP is any noun that serves to modify the head noun. If t is extracted as an aspect and t has noun compound modifier h, then the aspect h-t is extracted and t is removed from the aspect list. In EX, as chicken and casserole are in noun compound modifier relation, only chicken casserole is extracted as an aspect.\n",
    "  - *We ordered the chicken casserole, but what we got were a few small pieces of chicken, all dark meat and on the bone.*"
   ]
  },
  {
   "cell_type": "code",
   "execution_count": 215,
   "metadata": {},
   "outputs": [
    {
     "name": "stdout",
     "output_type": "stream",
     "text": [
      "We nsubj PRON PRP [] loved 0\n",
      "loved ROOT VERB VBD [We, casserole, .] loved 1\n",
      "the det DET DT [] casserole 2\n",
      "chicken compound NOUN NN [] casserole 3\n",
      "casserole dobj NOUN NN [the, chicken] loved 4\n",
      ". punct PUNCT . [] loved 5\n"
     ]
    }
   ],
   "source": [
    "doc = nlp(\"We loved the chicken casserole.\")\n",
    "explore(doc)"
   ]
  },
  {
   "cell_type": "code",
   "execution_count": 180,
   "metadata": {},
   "outputs": [],
   "source": [
    "test = rule2(doc)"
   ]
  },
  {
   "cell_type": "code",
   "execution_count": 183,
   "metadata": {},
   "outputs": [
    {
     "data": {
      "text/plain": [
       "[chicken, casserole]"
      ]
     },
     "execution_count": 183,
     "metadata": {},
     "output_type": "execute_result"
    }
   ],
   "source": [
    "[c for c in test.children if c.dep_==\"compound\"]+[test]"
   ]
  }
 ],
 "metadata": {
  "interpreter": {
   "hash": "d8915c1abd490d094a9c0bd3efca1aaafbc86b5f7bcd7166c84b94176c5db6f9"
  },
  "kernelspec": {
   "display_name": "Python 3.8.10 ('scrapeamazon': venv)",
   "language": "python",
   "name": "python3"
  },
  "language_info": {
   "codemirror_mode": {
    "name": "ipython",
    "version": 3
   },
   "file_extension": ".py",
   "mimetype": "text/x-python",
   "name": "python",
   "nbconvert_exporter": "python",
   "pygments_lexer": "ipython3",
   "version": "3.8.10"
  },
  "orig_nbformat": 4
 },
 "nbformat": 4,
 "nbformat_minor": 2
}
