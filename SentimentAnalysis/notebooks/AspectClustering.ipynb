{
 "cells": [
  {
   "cell_type": "markdown",
   "metadata": {},
   "source": [
    "# Clustering the aspects of the reviews"
   ]
  },
  {
   "cell_type": "markdown",
   "metadata": {},
   "source": [
    "## Loading the reviews from the database"
   ]
  },
  {
   "cell_type": "code",
   "execution_count": 1,
   "metadata": {},
   "outputs": [
    {
     "name": "stdout",
     "output_type": "stream",
     "text": [
      "/home/pdona/VariousExercises/SentimentAnalysisAmazonMerchant/SentimentAnalysis\n",
      "/home/pdona/VariousExercises/SentimentAnalysisAmazonMerchant\n"
     ]
    }
   ],
   "source": [
    "%cd ..\n",
    "%cd .."
   ]
  },
  {
   "cell_type": "markdown",
   "metadata": {},
   "source": [
    "Import the classes and database ORM"
   ]
  },
  {
   "cell_type": "code",
   "execution_count": 2,
   "metadata": {},
   "outputs": [],
   "source": [
    "import ProductReviewScraper.amazon_review_database as db\n",
    "from ProductReviewScraper.models import Review, Product\n",
    "import pandas as pd"
   ]
  },
  {
   "cell_type": "code",
   "execution_count": 3,
   "metadata": {},
   "outputs": [],
   "source": [
    "df = pd.read_sql(\n",
    "    db.session.query(\n",
    "        Product, Review).filter(Review.product_id == Product.id).statement,\n",
    "    con=db.engine\n",
    ")\n",
    "\n",
    "df.drop(['id', 'id_1', 'product_id'],\n",
    "        axis='columns', inplace=True)\n",
    "df.columns = ['product_asin', 'product_name',  'product_imageurl',\n",
    "              'product_price', 'product_global_rating', 'review_amazonid',\n",
    "              'review_user', 'review_rating', 'review_title',\n",
    "              'review_date', 'review_verified', 'review_foreign',\n",
    "              'review_content', 'review_helpful_vote']\n",
    "dftmp = df.copy()\n",
    "df = None"
   ]
  },
  {
   "cell_type": "markdown",
   "metadata": {},
   "source": [
    "We use only reviews written in english"
   ]
  },
  {
   "cell_type": "code",
   "execution_count": 4,
   "metadata": {},
   "outputs": [],
   "source": [
    "df = dftmp[dftmp[\"review_foreign\"] == False].copy()\n",
    "df.drop(['review_foreign'],\n",
    "        axis='columns', inplace=True)\n"
   ]
  },
  {
   "cell_type": "markdown",
   "metadata": {},
   "source": [
    "There is a strange cap at 5K reviews - To investigate."
   ]
  },
  {
   "cell_type": "markdown",
   "metadata": {},
   "source": [
    "We cleanup the unicode in the reviews"
   ]
  },
  {
   "cell_type": "code",
   "execution_count": 5,
   "metadata": {},
   "outputs": [],
   "source": [
    "import unidecode"
   ]
  },
  {
   "cell_type": "code",
   "execution_count": 6,
   "metadata": {},
   "outputs": [],
   "source": [
    "df[\"review_content\"] = df[\"review_content\"].apply(unidecode.unidecode)\n",
    "df[\"review_title\"] = df[\"review_title\"].apply(unidecode.unidecode)\n",
    "df[\"product_name\"] = df[\"product_name\"].apply(unidecode.unidecode)"
   ]
  },
  {
   "cell_type": "markdown",
   "metadata": {},
   "source": [
    "In this notebook we focus on only one product"
   ]
  },
  {
   "cell_type": "code",
   "execution_count": 7,
   "metadata": {},
   "outputs": [],
   "source": [
    "dfproduct = df.query(\"product_asin=='B000TVJ6XW'\").copy()\n"
   ]
  },
  {
   "cell_type": "markdown",
   "metadata": {},
   "source": [
    "## Perform aspect extraction"
   ]
  },
  {
   "cell_type": "code",
   "execution_count": null,
   "metadata": {},
   "outputs": [],
   "source": [
    "from SentimentAnalysis import aspect_estraction"
   ]
  },
  {
   "cell_type": "markdown",
   "metadata": {},
   "source": [
    "We extract the aspects and keep track of the IDs to add the review features the the aspect"
   ]
  },
  {
   "cell_type": "code",
   "execution_count": null,
   "metadata": {},
   "outputs": [],
   "source": [
    "aspects_pool = []\n",
    "ids = []\n",
    "\n",
    "for review, reviewID in zip(list(dfproduct[\"review_content\"]), list(dfproduct.index)):\n",
    "    tmp = aspect_estraction.get_aspects(review)\n",
    "    aspects_pool += tmp\n",
    "    ids += [reviewID]*len(tmp)"
   ]
  },
  {
   "cell_type": "markdown",
   "metadata": {},
   "source": [
    "To cluster the aspects we use the spacy vector representation of the aspect words"
   ]
  },
  {
   "cell_type": "code",
   "execution_count": null,
   "metadata": {},
   "outputs": [],
   "source": [
    "aspects_words = [aspect_word.aspect for aspect_word in aspects_pool]\n",
    "words_polarity = [aspect_word.sentiment for aspect_word in aspects_pool]\n",
    "\n",
    "aspect_vectors = [aspect_estraction.nlp(\n",
    "    aspect).vector for aspect in aspects_words]"
   ]
  },
  {
   "cell_type": "markdown",
   "metadata": {},
   "source": [
    "We use a basic KMeans algorithm to cluster the reviews. Even after aspects extraction there are too many aspects to derive a business insight. We cluster the aspects to group them into similar themes (aka group scent, smell, aroma, etc for candle related reviews)"
   ]
  },
  {
   "cell_type": "code",
   "execution_count": null,
   "metadata": {},
   "outputs": [],
   "source": [
    "# Load all the reviews\n",
    "from sklearn.cluster import KMeans\n",
    "\n",
    "kmeans = KMeans(n_clusters=5,random_state=42)\n",
    "kmeans.fit(aspect_vectors)\n",
    "labels = kmeans.labels_\n",
    "\n",
    "aspectsdf = pd.DataFrame(\n",
    "    [z for z in zip(aspects_words, labels, words_polarity)], columns=[\"aspect\", \"cluster\", \"polarity\"])\n",
    "aspectsdf.index = ids\n",
    "aspectsdfclustered = pd.merge(aspectsdf, df, left_index=True, right_index=True)\n"
   ]
  },
  {
   "cell_type": "markdown",
   "metadata": {},
   "source": [
    "We visualize the 5 clusters"
   ]
  },
  {
   "cell_type": "code",
   "execution_count": null,
   "metadata": {},
   "outputs": [],
   "source": [
    "import seaborn as sns\n",
    "import matplotlib.pyplot as plt"
   ]
  },
  {
   "cell_type": "code",
   "execution_count": null,
   "metadata": {},
   "outputs": [],
   "source": [
    "sns.countplot(data=aspectsdfclustered, x=\"review_rating\",hue=\"cluster\")\n"
   ]
  },
  {
   "cell_type": "code",
   "execution_count": null,
   "metadata": {},
   "outputs": [],
   "source": [
    "fig, axis = plt.subplots(3, 2, figsize=(20, 15))\n",
    "sns.countplot(data=aspectsdfclustered.query(\n",
    "    \"cluster==0\"), x=\"review_rating\", ax=axis[0, 0], color=sns.color_palette()[0])\n",
    "sns.countplot(data=aspectsdfclustered.query(\n",
    "    \"cluster==1\"), x=\"review_rating\", ax=axis[0, 1], color=sns.color_palette()[1])\n",
    "sns.countplot(data=aspectsdfclustered.query(\n",
    "    \"cluster==2\"), x=\"review_rating\", ax=axis[1, 0], color=sns.color_palette()[2])\n",
    "sns.countplot(data=aspectsdfclustered.query(\n",
    "    \"cluster==3\"), x=\"review_rating\", ax=axis[1, 1], color=sns.color_palette()[3])\n",
    "sns.countplot(data=aspectsdfclustered.query(\n",
    "    \"cluster==4\"), x=\"review_rating\", ax=axis[2, 0], color=sns.color_palette()[4])\n"
   ]
  },
  {
   "cell_type": "markdown",
   "metadata": {},
   "source": [
    "The rating distribution looks similar for different clusters, however cluster 0 and 3 have an excess of negative reviews."
   ]
  },
  {
   "cell_type": "code",
   "execution_count": null,
   "metadata": {},
   "outputs": [],
   "source": [
    "aspectsdfclustered.columns"
   ]
  },
  {
   "cell_type": "markdown",
   "metadata": {},
   "source": [
    "How to name clusters"
   ]
  },
  {
   "cell_type": "code",
   "execution_count": null,
   "metadata": {},
   "outputs": [],
   "source": [
    "testcluster = aspectsdfclustered.query(\"cluster==0\").copy()\n",
    "name=aspectsdfclustered.query(\"cluster==0\")[\n",
    "    'aspect'].value_counts().first_valid_index()\n",
    "print(name)\n",
    "testcluster['aspect'].value_counts().nlargest(5)"
   ]
  },
  {
   "cell_type": "code",
   "execution_count": null,
   "metadata": {},
   "outputs": [],
   "source": [
    "testcluster = aspectsdfclustered.query(\"cluster==1\").copy()\n",
    "name = aspectsdfclustered.query(\"cluster==1\")[\n",
    "    'aspect'].value_counts().first_valid_index()\n",
    "print(name)\n",
    "testcluster['aspect'].value_counts().nlargest(5)\n"
   ]
  },
  {
   "cell_type": "code",
   "execution_count": null,
   "metadata": {},
   "outputs": [],
   "source": [
    "testcluster = aspectsdfclustered.query(\"cluster==2\").copy()\n",
    "name = aspectsdfclustered.query(\"cluster==2\")[\n",
    "    'aspect'].value_counts().first_valid_index()\n",
    "print(name)\n",
    "testcluster['aspect'].value_counts().nlargest(5)\n"
   ]
  },
  {
   "cell_type": "code",
   "execution_count": null,
   "metadata": {},
   "outputs": [],
   "source": [
    "testcluster = aspectsdfclustered.query(\"cluster==3\").copy()\n",
    "name = aspectsdfclustered.query(\"cluster==3\")[\n",
    "    'aspect'].value_counts().first_valid_index()\n",
    "print(name)\n",
    "testcluster['aspect'].value_counts(normalize=True).nlargest(5)\n"
   ]
  },
  {
   "cell_type": "code",
   "execution_count": null,
   "metadata": {},
   "outputs": [],
   "source": [
    "testcluster = aspectsdfclustered.query(\"cluster==4\").copy()\n",
    "name = aspectsdfclustered.query(\"cluster==4\")[\n",
    "    'aspect'].value_counts().first_valid_index()\n",
    "print(name)\n",
    "testcluster['aspect'].value_counts().nlargest(5)"
   ]
  },
  {
   "cell_type": "code",
   "execution_count": null,
   "metadata": {},
   "outputs": [],
   "source": [
    "cluster_names = {\n",
    "    0: \"Emotions\", \n",
    "    1: \"Scent\",\n",
    "    2: \"Material\", \n",
    "    3: \"Price\", \n",
    "    4: \"Duration\", \n",
    "    }"
   ]
  },
  {
   "cell_type": "code",
   "execution_count": null,
   "metadata": {},
   "outputs": [],
   "source": [
    "aspectsdfclustered[\"cluster_label\"] = aspectsdfclustered[\"cluster\"].map(cluster_names)"
   ]
  },
  {
   "cell_type": "code",
   "execution_count": null,
   "metadata": {},
   "outputs": [],
   "source": [
    "aspectsdfclustered[\"cluster_label\"]"
   ]
  },
  {
   "cell_type": "code",
   "execution_count": 8,
   "metadata": {},
   "outputs": [
    {
     "name": "stderr",
     "output_type": "stream",
     "text": [
      "2022-03-02 18:13:51.165005: W tensorflow/stream_executor/platform/default/dso_loader.cc:60] Could not load dynamic library 'libcudart.so.11.0'; dlerror: libcudart.so.11.0: cannot open shared object file: No such file or directory\n",
      "2022-03-02 18:13:51.165023: I tensorflow/stream_executor/cuda/cudart_stub.cc:29] Ignore above cudart dlerror if you do not have a GPU set up on your machine.\n"
     ]
    }
   ],
   "source": [
    "from SentimentAnalysis.aspect_clustering import extract_aspects"
   ]
  },
  {
   "cell_type": "code",
   "execution_count": 9,
   "metadata": {},
   "outputs": [],
   "source": [
    "aspectsdfclustered = extract_aspects(dfproduct, 'B000TVJ6XW')\n"
   ]
  },
  {
   "cell_type": "code",
   "execution_count": 24,
   "metadata": {},
   "outputs": [],
   "source": [
    "pospolarity = aspectsdfclustered.query(\"polarity>0\")[\"cluster\"].value_counts()\n",
    "neupolarity = aspectsdfclustered.query(\"polarity==0\")[\"cluster\"].value_counts()\n",
    "negpolarity = aspectsdfclustered.query(\"polarity<0\")[\"cluster\"].value_counts()\n",
    "posrating = aspectsdfclustered.query(\"review_rating>3\")[\"cluster\"].value_counts()\n",
    "neurating = aspectsdfclustered.query(\"review_rating==3\")[\"cluster\"].value_counts()\n",
    "negrating = aspectsdfclustered.query(\"review_rating<3\")[\"cluster\"].value_counts()\n"
   ]
  },
  {
   "cell_type": "code",
   "execution_count": 25,
   "metadata": {},
   "outputs": [],
   "source": [
    "polaritycount = pd.DataFrame({\n",
    "    \"Cluster\": pospolarity.index,\n",
    "    \"PositivePolarity\": pospolarity.values,\n",
    "    \"NeutralPolarity\": neupolarity.values,\n",
    "    \"NegativePolarity\": negpolarity.values,\n",
    "    \"PositiveRating\": posrating.values,\n",
    "    \"NeutralRating\": neurating.values,\n",
    "    \"NegativeRating\": negrating.values})\n"
   ]
  },
  {
   "cell_type": "code",
   "execution_count": null,
   "metadata": {},
   "outputs": [],
   "source": []
  }
 ],
 "metadata": {
  "interpreter": {
   "hash": "d8915c1abd490d094a9c0bd3efca1aaafbc86b5f7bcd7166c84b94176c5db6f9"
  },
  "kernelspec": {
   "display_name": "Python 3.8.10 ('scrapeamazon': venv)",
   "language": "python",
   "name": "python3"
  },
  "language_info": {
   "codemirror_mode": {
    "name": "ipython",
    "version": 3
   },
   "file_extension": ".py",
   "mimetype": "text/x-python",
   "name": "python",
   "nbconvert_exporter": "python",
   "pygments_lexer": "ipython3",
   "version": "3.8.10"
  },
  "orig_nbformat": 4
 },
 "nbformat": 4,
 "nbformat_minor": 2
}
