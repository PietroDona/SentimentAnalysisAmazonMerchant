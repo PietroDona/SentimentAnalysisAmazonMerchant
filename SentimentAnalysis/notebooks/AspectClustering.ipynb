{
 "cells": [
  {
   "cell_type": "markdown",
   "metadata": {},
   "source": [
    "# Clustering the aspects of the reviews"
   ]
  },
  {
   "cell_type": "markdown",
   "metadata": {},
   "source": [
    "## Loading the reviews from the database"
   ]
  },
  {
   "cell_type": "code",
   "execution_count": 1,
   "metadata": {},
   "outputs": [
    {
     "name": "stdout",
     "output_type": "stream",
     "text": [
      "/home/pdona/VariousExercises/SentimentAnalysisAmazonMerchant/SentimentAnalysis\n",
      "/home/pdona/VariousExercises/SentimentAnalysisAmazonMerchant\n"
     ]
    }
   ],
   "source": [
    "%cd ..\n",
    "%cd .."
   ]
  },
  {
   "cell_type": "markdown",
   "metadata": {},
   "source": [
    "Import the classes and database ORM"
   ]
  },
  {
   "cell_type": "code",
   "execution_count": 2,
   "metadata": {},
   "outputs": [],
   "source": [
    "import ProductReviewScraper.amazon_review_database as db\n",
    "from ProductReviewScraper.models import Review, Product\n",
    "import pandas as pd"
   ]
  },
  {
   "cell_type": "code",
   "execution_count": 3,
   "metadata": {},
   "outputs": [],
   "source": [
    "df = pd.read_sql(\n",
    "    db.session.query(\n",
    "        Product, Review).filter(Review.product_id == Product.id).statement,\n",
    "    con=db.engine\n",
    ")\n",
    "\n",
    "df.drop(['id', 'id_1', 'product_id'],\n",
    "        axis='columns', inplace=True)\n",
    "df.columns = ['product_asin', 'product_name',  'product_imageurl',\n",
    "              'product_price', 'product_global_rating', 'review_amazonid',\n",
    "              'review_user', 'review_rating', 'review_title',\n",
    "              'review_date', 'review_verified', 'review_foreign',\n",
    "              'review_content', 'review_helpful_vote']\n",
    "dftmp = df.copy()\n",
    "df = None"
   ]
  },
  {
   "cell_type": "markdown",
   "metadata": {},
   "source": [
    "We use only reviews written in english"
   ]
  },
  {
   "cell_type": "code",
   "execution_count": 4,
   "metadata": {},
   "outputs": [],
   "source": [
    "df = dftmp[dftmp[\"review_foreign\"] == False].copy()\n",
    "df.drop(['review_foreign'],\n",
    "        axis='columns', inplace=True)\n"
   ]
  },
  {
   "cell_type": "markdown",
   "metadata": {},
   "source": [
    "There is a strange cap at 5K reviews - To investigate."
   ]
  },
  {
   "cell_type": "markdown",
   "metadata": {},
   "source": [
    "We cleanup the unicode in the reviews"
   ]
  },
  {
   "cell_type": "code",
   "execution_count": 5,
   "metadata": {},
   "outputs": [],
   "source": [
    "import unidecode"
   ]
  },
  {
   "cell_type": "code",
   "execution_count": 6,
   "metadata": {},
   "outputs": [],
   "source": [
    "df[\"review_content\"] = df[\"review_content\"].apply(unidecode.unidecode)\n",
    "df[\"review_title\"] = df[\"review_title\"].apply(unidecode.unidecode)\n",
    "df[\"product_name\"] = df[\"product_name\"].apply(unidecode.unidecode)"
   ]
  },
  {
   "cell_type": "markdown",
   "metadata": {},
   "source": [
    "In this notebook we focus on only one product"
   ]
  },
  {
   "cell_type": "code",
   "execution_count": 7,
   "metadata": {},
   "outputs": [],
   "source": [
    "dfproduct = df.query(\"product_asin=='B000TVJ6XW'\").copy()\n"
   ]
  },
  {
   "cell_type": "markdown",
   "metadata": {},
   "source": [
    "## Perform aspect extraction"
   ]
  },
  {
   "cell_type": "code",
   "execution_count": 8,
   "metadata": {},
   "outputs": [
    {
     "name": "stderr",
     "output_type": "stream",
     "text": [
      "2022-03-01 11:19:37.410481: W tensorflow/stream_executor/platform/default/dso_loader.cc:60] Could not load dynamic library 'libcudart.so.11.0'; dlerror: libcudart.so.11.0: cannot open shared object file: No such file or directory\n",
      "2022-03-01 11:19:37.410503: I tensorflow/stream_executor/cuda/cudart_stub.cc:29] Ignore above cudart dlerror if you do not have a GPU set up on your machine.\n"
     ]
    }
   ],
   "source": [
    "from SentimentAnalysis import aspect_estraction"
   ]
  },
  {
   "cell_type": "markdown",
   "metadata": {},
   "source": [
    "We extract the aspects and keep track of the IDs to add the review features the the aspect"
   ]
  },
  {
   "cell_type": "code",
   "execution_count": 10,
   "metadata": {},
   "outputs": [],
   "source": [
    "aspects_pool = []\n",
    "ids = []\n",
    "\n",
    "for review, reviewID in zip(list(dfproduct[\"review_content\"]), list(dfproduct.index)):\n",
    "    tmp = aspect_estraction.get_aspects(review)\n",
    "    aspects_pool += tmp\n",
    "    ids += [reviewID]*len(tmp)"
   ]
  },
  {
   "cell_type": "markdown",
   "metadata": {},
   "source": [
    "To cluster the aspects we use the spacy vector representation of the aspect words"
   ]
  },
  {
   "cell_type": "code",
   "execution_count": 11,
   "metadata": {},
   "outputs": [],
   "source": [
    "aspects_words = [aspect_word.aspect for aspect_word in aspects_pool]\n",
    "words_polarity = [aspect_word.sentiment for aspect_word in aspects_pool]\n",
    "\n",
    "aspect_vectors = [aspect_estraction.nlp(\n",
    "    aspect).vector for aspect in aspects_words]"
   ]
  },
  {
   "cell_type": "markdown",
   "metadata": {},
   "source": [
    "We use a basic KMeans algorithm to cluster the reviews. Even after aspects extraction there are too many aspects to derive a business insight. We cluster the aspects to group them into similar themes (aka group scent, smell, aroma, etc for candle related reviews)"
   ]
  },
  {
   "cell_type": "code",
   "execution_count": 56,
   "metadata": {},
   "outputs": [],
   "source": [
    "# Load all the reviews\n",
    "from sklearn.cluster import KMeans\n",
    "\n",
    "kmeans = KMeans(n_clusters=5,random_state=42)\n",
    "kmeans.fit(aspect_vectors)\n",
    "labels = kmeans.labels_\n",
    "\n",
    "aspectsdf = pd.DataFrame(\n",
    "    [z for z in zip(aspects_words, labels, words_polarity)], columns=[\"aspect\", \"cluster\", \"polarity\"])\n",
    "aspectsdf.index = ids\n",
    "aspectsdfclustered = pd.merge(aspectsdf, df, left_index=True, right_index=True)\n"
   ]
  },
  {
   "cell_type": "markdown",
   "metadata": {},
   "source": [
    "We visualize the 5 clusters"
   ]
  },
  {
   "cell_type": "code",
   "execution_count": 57,
   "metadata": {},
   "outputs": [],
   "source": [
    "import seaborn as sns\n",
    "import matplotlib.pyplot as plt"
   ]
  },
  {
   "cell_type": "code",
   "execution_count": 58,
   "metadata": {},
   "outputs": [
    {
     "data": {
      "text/plain": [
       "<AxesSubplot:xlabel='review_rating', ylabel='count'>"
      ]
     },
     "execution_count": 58,
     "metadata": {},
     "output_type": "execute_result"
    },
    {
     "data": {
      "image/png": "[encoded data removed]",
      "text/plain": [
       "<Figure size 432x288 with 1 Axes>"
      ]
     },
     "metadata": {
      "needs_background": "light"
     },
     "output_type": "display_data"
    }
   ],
   "source": [
    "sns.countplot(data=aspectsdfclustered, x=\"review_rating\",hue=\"cluster\")\n"
   ]
  },
  {
   "cell_type": "code",
   "execution_count": 59,
   "metadata": {},
   "outputs": [
    {
     "data": {
      "text/plain": [
       "<AxesSubplot:xlabel='review_rating', ylabel='count'>"
      ]
     },
     "execution_count": 59,
     "metadata": {},
     "output_type": "execute_result"
    },
    {
     "data": {
      "image/png": "[encoded data removed]",
      "text/plain": [
       "<Figure size 1440x1080 with 6 Axes>"
      ]
     },
     "metadata": {
      "needs_background": "light"
     },
     "output_type": "display_data"
    }
   ],
   "source": [
    "fig, axis = plt.subplots(3, 2, figsize=(20, 15))\n",
    "sns.countplot(data=aspectsdfclustered.query(\n",
    "    \"cluster==0\"), x=\"review_rating\", ax=axis[0, 0], color=sns.color_palette()[0])\n",
    "sns.countplot(data=aspectsdfclustered.query(\n",
    "    \"cluster==1\"), x=\"review_rating\", ax=axis[0, 1], color=sns.color_palette()[1])\n",
    "sns.countplot(data=aspectsdfclustered.query(\n",
    "    \"cluster==2\"), x=\"review_rating\", ax=axis[1, 0], color=sns.color_palette()[2])\n",
    "sns.countplot(data=aspectsdfclustered.query(\n",
    "    \"cluster==3\"), x=\"review_rating\", ax=axis[1, 1], color=sns.color_palette()[3])\n",
    "sns.countplot(data=aspectsdfclustered.query(\n",
    "    \"cluster==4\"), x=\"review_rating\", ax=axis[2, 0], color=sns.color_palette()[4])\n"
   ]
  },
  {
   "cell_type": "markdown",
   "metadata": {},
   "source": [
    "The rating distribution looks similar for different clusters, however cluster 0 and 3 have an excess of negative reviews."
   ]
  },
  {
   "cell_type": "code",
   "execution_count": 60,
   "metadata": {},
   "outputs": [
    {
     "data": {
      "text/plain": [
       "Index(['aspect', 'cluster', 'polarity', 'product_asin', 'product_name',\n",
       "       'product_imageurl', 'product_price', 'product_global_rating',\n",
       "       'review_amazonid', 'review_user', 'review_rating', 'review_title',\n",
       "       'review_date', 'review_verified', 'review_content',\n",
       "       'review_helpful_vote'],\n",
       "      dtype='object')"
      ]
     },
     "execution_count": 60,
     "metadata": {},
     "output_type": "execute_result"
    }
   ],
   "source": [
    "aspectsdfclustered.columns"
   ]
  },
  {
   "cell_type": "markdown",
   "metadata": {},
   "source": [
    "How to name clusters"
   ]
  },
  {
   "cell_type": "code",
   "execution_count": 61,
   "metadata": {},
   "outputs": [
    {
     "name": "stdout",
     "output_type": "stream",
     "text": [
      "strong\n"
     ]
    },
    {
     "data": {
      "text/plain": [
       "strong          90\n",
       "love            61\n",
       "great           59\n",
       "disappointed    46\n",
       "amazing         34\n",
       "Name: aspect, dtype: int64"
      ]
     },
     "execution_count": 61,
     "metadata": {},
     "output_type": "execute_result"
    }
   ],
   "source": [
    "testcluster = aspectsdfclustered.query(\"cluster==0\").copy()\n",
    "name=aspectsdfclustered.query(\"cluster==0\")[\n",
    "    'aspect'].value_counts().first_valid_index()\n",
    "print(name)\n",
    "testcluster['aspect'].value_counts().nlargest(5)"
   ]
  },
  {
   "cell_type": "code",
   "execution_count": 62,
   "metadata": {},
   "outputs": [
    {
     "name": "stdout",
     "output_type": "stream",
     "text": [
      "scent\n"
     ]
    },
    {
     "data": {
      "text/plain": [
       "scent        426\n",
       "smell        280\n",
       "fragrance     41\n",
       "aroma         17\n",
       "fragrant       8\n",
       "Name: aspect, dtype: int64"
      ]
     },
     "execution_count": 62,
     "metadata": {},
     "output_type": "execute_result"
    }
   ],
   "source": [
    "testcluster = aspectsdfclustered.query(\"cluster==1\").copy()\n",
    "name = aspectsdfclustered.query(\"cluster==1\")[\n",
    "    'aspect'].value_counts().first_valid_index()\n",
    "print(name)\n",
    "testcluster['aspect'].value_counts().nlargest(5)\n"
   ]
  },
  {
   "cell_type": "code",
   "execution_count": 63,
   "metadata": {},
   "outputs": [
    {
     "name": "stdout",
     "output_type": "stream",
     "text": [
      "candle\n"
     ]
    },
    {
     "data": {
      "text/plain": [
       "candle          352\n",
       "wick             25\n",
       "Candles          13\n",
       "scent candle     13\n",
       "wax              12\n",
       "Name: aspect, dtype: int64"
      ]
     },
     "execution_count": 63,
     "metadata": {},
     "output_type": "execute_result"
    }
   ],
   "source": [
    "testcluster = aspectsdfclustered.query(\"cluster==2\").copy()\n",
    "name = aspectsdfclustered.query(\"cluster==2\")[\n",
    "    'aspect'].value_counts().first_valid_index()\n",
    "print(name)\n",
    "testcluster['aspect'].value_counts().nlargest(5)\n"
   ]
  },
  {
   "cell_type": "code",
   "execution_count": 64,
   "metadata": {},
   "outputs": [
    {
     "name": "stdout",
     "output_type": "stream",
     "text": [
      "buy\n"
     ]
    },
    {
     "data": {
      "text/plain": [
       "buy          90\n",
       "purchase     40\n",
       "price        39\n",
       "worth        26\n",
       "expensive    24\n",
       "Name: aspect, dtype: int64"
      ]
     },
     "execution_count": 64,
     "metadata": {},
     "output_type": "execute_result"
    }
   ],
   "source": [
    "testcluster = aspectsdfclustered.query(\"cluster==3\").copy()\n",
    "name = aspectsdfclustered.query(\"cluster==3\")[\n",
    "    'aspect'].value_counts().first_valid_index()\n",
    "print(name)\n",
    "testcluster['aspect'].value_counts().nlargest(5)\n"
   ]
  },
  {
   "cell_type": "code",
   "execution_count": 65,
   "metadata": {},
   "outputs": [
    {
     "name": "stdout",
     "output_type": "stream",
     "text": [
      "burn\n"
     ]
    },
    {
     "data": {
      "text/plain": [
       "burn            141\n",
       "burn hour         5\n",
       "burn time         3\n",
       "Burns             2\n",
       "burn kitchen      1\n",
       "Name: aspect, dtype: int64"
      ]
     },
     "execution_count": 65,
     "metadata": {},
     "output_type": "execute_result"
    }
   ],
   "source": [
    "testcluster = aspectsdfclustered.query(\"cluster==4\").copy()\n",
    "name = aspectsdfclustered.query(\"cluster==4\")[\n",
    "    'aspect'].value_counts().first_valid_index()\n",
    "print(name)\n",
    "testcluster['aspect'].value_counts().nlargest(5)"
   ]
  },
  {
   "cell_type": "code",
   "execution_count": 66,
   "metadata": {},
   "outputs": [],
   "source": [
    "cluster_names = {\n",
    "    0: \"Emotions\", \n",
    "    1: \"Scent\",\n",
    "    2: \"Material\", \n",
    "    3: \"Price\", \n",
    "    4: \"Duration\", \n",
    "    }"
   ]
  },
  {
   "cell_type": "code",
   "execution_count": 68,
   "metadata": {},
   "outputs": [],
   "source": [
    "aspectsdfclustered[\"cluster_label\"] = aspectsdfclustered[\"cluster\"].map(cluster_names)"
   ]
  },
  {
   "cell_type": "code",
   "execution_count": 69,
   "metadata": {},
   "outputs": [
    {
     "data": {
      "text/plain": [
       "36322    Emotions\n",
       "36323       Price\n",
       "36323    Emotions\n",
       "36324       Scent\n",
       "36325    Emotions\n",
       "           ...   \n",
       "39486    Emotions\n",
       "39488       Scent\n",
       "39488    Emotions\n",
       "39489    Emotions\n",
       "39490    Emotions\n",
       "Name: cluster_label, Length: 4367, dtype: object"
      ]
     },
     "execution_count": 69,
     "metadata": {},
     "output_type": "execute_result"
    }
   ],
   "source": [
    "aspectsdfclustered[\"cluster_label\"]"
   ]
  }
 ],
 "metadata": {
  "interpreter": {
   "hash": "d8915c1abd490d094a9c0bd3efca1aaafbc86b5f7bcd7166c84b94176c5db6f9"
  },
  "kernelspec": {
   "display_name": "Python 3.8.10 ('scrapeamazon': venv)",
   "language": "python",
   "name": "python3"
  },
  "language_info": {
   "codemirror_mode": {
    "name": "ipython",
    "version": 3
   },
   "file_extension": ".py",
   "mimetype": "text/x-python",
   "name": "python",
   "nbconvert_exporter": "python",
   "pygments_lexer": "ipython3",
   "version": "3.8.10"
  },
  "orig_nbformat": 4
 },
 "nbformat": 4,
 "nbformat_minor": 2
}
