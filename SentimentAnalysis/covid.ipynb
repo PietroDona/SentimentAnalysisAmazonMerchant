{
 "cells": [
  {
   "cell_type": "markdown",
   "metadata": {},
   "source": [
    "# Setup"
   ]
  },
  {
   "cell_type": "code",
   "execution_count": 1,
   "metadata": {},
   "outputs": [
    {
     "name": "stdout",
     "output_type": "stream",
     "text": [
      "/home/pdona/VariousExercises/SentimentAnalysisAmazonMerchant\n"
     ]
    }
   ],
   "source": [
    "%cd .."
   ]
  },
  {
   "cell_type": "code",
   "execution_count": 2,
   "metadata": {},
   "outputs": [],
   "source": [
    "import pandas as pd\n",
    "import matplotlib.pyplot as plt\n",
    "import seaborn as sns\n"
   ]
  },
  {
   "cell_type": "code",
   "execution_count": 3,
   "metadata": {},
   "outputs": [],
   "source": [
    "from ProductReviewScraper.models import Review, Product\n",
    "import ProductReviewScraper.amazon_review_database as db"
   ]
  },
  {
   "cell_type": "markdown",
   "metadata": {},
   "source": [
    "# Load data from datatabase"
   ]
  },
  {
   "cell_type": "code",
   "execution_count": 4,
   "metadata": {},
   "outputs": [],
   "source": [
    "df = pd.read_sql(\n",
    "    db.session.query(\n",
    "        Product, Review).filter(Review.product_id == Product.id).statement,\n",
    "    con=db.engine\n",
    ")\n",
    "\n",
    "df.drop(['id', 'id_1', 'product_id'],\n",
    "        axis='columns', inplace=True)\n",
    "df.columns = ['product_asin', 'product_name',  'product_imageurl',\n",
    "              'product_price', 'product_global_rating', 'review_amazonid',\n",
    "              'review_user', 'review_rating', 'review_title',\n",
    "              'review_date', 'review_verified', 'review_foreign',\n",
    "              'review_content', 'review_helpful_vote']\n",
    "dftmp = df.copy()\n",
    "df = None"
   ]
  },
  {
   "cell_type": "markdown",
   "metadata": {},
   "source": [
    "We keep only reviews written in english and we drop automatic translations"
   ]
  },
  {
   "cell_type": "code",
   "execution_count": 5,
   "metadata": {},
   "outputs": [],
   "source": [
    "df = dftmp[dftmp[\"review_foreign\"] == False].copy()\n",
    "df.drop(['review_foreign'],\n",
    "        axis='columns', inplace=True)\n"
   ]
  },
  {
   "cell_type": "markdown",
   "metadata": {},
   "source": [
    "There is a strange cap at 5K reviews - To investigate. \n",
    "The products are alla more or less the same and they are priced in a 15$ window. \n",
    "It make sense to analyze them as a group."
   ]
  },
  {
   "cell_type": "markdown",
   "metadata": {},
   "source": [
    "# Basic EDA"
   ]
  },
  {
   "cell_type": "markdown",
   "metadata": {},
   "source": [
    "The reviews are scraped from Amazon.com therefore are US centric. Keep it in mind."
   ]
  },
  {
   "cell_type": "code",
   "execution_count": 6,
   "metadata": {},
   "outputs": [
    {
     "name": "stdout",
     "output_type": "stream",
     "text": [
      "<class 'pandas.core.frame.DataFrame'>\n",
      "Int64Index: 61294 entries, 0 to 63616\n",
      "Data columns (total 13 columns):\n",
      " #   Column                 Non-Null Count  Dtype  \n",
      "---  ------                 --------------  -----  \n",
      " 0   product_asin           61294 non-null  object \n",
      " 1   product_name           61294 non-null  object \n",
      " 2   product_imageurl       61294 non-null  object \n",
      " 3   product_price          61294 non-null  float64\n",
      " 4   product_global_rating  61294 non-null  int64  \n",
      " 5   review_amazonid        61294 non-null  object \n",
      " 6   review_user            61294 non-null  object \n",
      " 7   review_rating          61294 non-null  int64  \n",
      " 8   review_title           61294 non-null  object \n",
      " 9   review_date            61294 non-null  object \n",
      " 10  review_verified        61294 non-null  bool   \n",
      " 11  review_content         61294 non-null  object \n",
      " 12  review_helpful_vote    61294 non-null  int64  \n",
      "dtypes: bool(1), float64(1), int64(3), object(8)\n",
      "memory usage: 6.1+ MB\n"
     ]
    }
   ],
   "source": [
    "df.info()"
   ]
  },
  {
   "cell_type": "markdown",
   "metadata": {},
   "source": [
    "There are no missing data. We scraped the reviews carefully."
   ]
  },
  {
   "cell_type": "code",
   "execution_count": 7,
   "metadata": {},
   "outputs": [
    {
     "data": {
      "image/png": "[encoded data removed]",
      "text/plain": [
       "<Figure size 432x288 with 1 Axes>"
      ]
     },
     "metadata": {
      "needs_background": "light"
     },
     "output_type": "display_data"
    }
   ],
   "source": [
    "ax = sns.countplot(data=df, x=\"review_rating\")\n",
    "ax.set(title=\"Ratings ditribution\", xlabel=\"Rating\", ylabel=\"Count\");\n"
   ]
  },
  {
   "cell_type": "markdown",
   "metadata": {},
   "source": [
    "The global (cumulative) rating distribution is typical of amazon products. There is a large excess of positive ratings. The reviews are often polarized (1 and 5 are preferred)."
   ]
  },
  {
   "cell_type": "code",
   "execution_count": 8,
   "metadata": {},
   "outputs": [
    {
     "data": {
      "text/plain": [
       "array(['B000X457HO', 'B08TZ75LLK', 'B000WQY7RO', 'B000WUFVR0',\n",
       "       'B004G9C0SQ', 'B000JDGC78', 'B001L2MD2E', 'B001U40C6W',\n",
       "       'B000W3V8S8', 'B004TAY2Q0', 'B07F7TWGGC', 'B07Y92C59V',\n",
       "       'B000TVJ6XW', 'B000WQZ5PC', 'B000P6THK8', 'B006QOK0ZY',\n",
       "       'B004G9DV66', 'B01N68CWKV', 'B001D6HB0M', 'B07144XJDK',\n",
       "       'B003U24B7S', 'B06X6H95GW', 'B0002PW0WO', 'B01MTS599T'],\n",
       "      dtype=object)"
      ]
     },
     "execution_count": 8,
     "metadata": {},
     "output_type": "execute_result"
    }
   ],
   "source": [
    "df[\"product_asin\"].unique()"
   ]
  },
  {
   "cell_type": "code",
   "execution_count": 9,
   "metadata": {},
   "outputs": [
    {
     "data": {
      "text/plain": [
       "array(['Yankee Candle Large Jar Candle Vanilla Cupcake',\n",
       "       'Yankee Candle Vanilla Crème Brulée Signature Large Tumbler Candle, Large 2-Wick Tumbler',\n",
       "       'Yankee Candle Large Jar Candle Lilac Blossoms',\n",
       "       'Yankee Candle Large Jar Candle Home Sweet Home',\n",
       "       'Yankee Candle Large Jar Candle Pink Sands',\n",
       "       'Yankee Candle Large Jar Candle Balsam & Cedar',\n",
       "       'Yankee Candle Large Jar Candle Sparkling Cinnamon',\n",
       "       'Yankee Candle Large Jar Candle, Red Apple Wreath',\n",
       "       'Yankee Candle Large Jar Candle Spiced Pumpkin',\n",
       "       'Yankee Candle Large 2-Wick Tumbler Candle, Mountain Lodge',\n",
       "       'Yankee Candle Scented Candle, Large 2-Wick Tumbler, Icy Blue',\n",
       "       'Yankee Candle Large Jar 2 Wick White Fir Scented Tumbler Premium Grade Candle Wax with up to 110 Hour Burn Time',\n",
       "       'Yankee Candle Large Jar Candle, Autumn Wreath',\n",
       "       'Yankee Candle 1073481EZ Large Jar Candle Lemon Lavender',\n",
       "       'Yankee Candle Large Jar Candle Sage & Citrus',\n",
       "       'Yankee Candle 1230624E White Gardenia Scented Premium Paraffin Grade Candle Wax with up to 150 Hour Burn Time, Large Jar',\n",
       "       'Yankee Candle Large Jar Candle Bahama Breeze',\n",
       "       'Yankee Candle Large Jar Candle, Coconut Beach, 1535315, White',\n",
       "       'Yankee Candle Large Jar Candle, Black Cherry',\n",
       "       'Yankee Candle Large Jar Candle, Honey Clementine',\n",
       "       'Yankee Candle Large Jar Candle',\n",
       "       'Yankee Candle Sicillian Lemon Scented Premium Paraffin Grade Candle Wax with up to 150 Hour Burn Time, Large Jar',\n",
       "       'Yankee Candle Large Jar Candle Clean Cotton',\n",
       "       'Yankee Candle Large Jar Candle, Mediterranean Breeze,1521678Z,Blue'],\n",
       "      dtype=object)"
      ]
     },
     "execution_count": 9,
     "metadata": {},
     "output_type": "execute_result"
    }
   ],
   "source": [
    "df[\"product_name\"].unique()\n"
   ]
  },
  {
   "cell_type": "code",
   "execution_count": 10,
   "metadata": {},
   "outputs": [
    {
     "data": {
      "text/plain": [
       "24"
      ]
     },
     "execution_count": 10,
     "metadata": {},
     "output_type": "execute_result"
    }
   ],
   "source": [
    "len(df[\"product_name\"].unique())\n"
   ]
  },
  {
   "cell_type": "markdown",
   "metadata": {},
   "source": [
    "We scaped 61294 reviews. For 24 unique products the majority are variations of **Yankee Candle Large Jar Candle**"
   ]
  },
  {
   "cell_type": "code",
   "execution_count": 11,
   "metadata": {},
   "outputs": [
    {
     "data": {
      "image/png": "[encoded data removed]",
      "text/plain": [
       "<Figure size 432x288 with 1 Axes>"
      ]
     },
     "metadata": {
      "needs_background": "light"
     },
     "output_type": "display_data"
    }
   ],
   "source": [
    "ax = sns.countplot(data=df, x=\"product_asin\", color=sns.color_palette()[0])\n",
    "ax.set(title=\"Count of product reviews\", xlabel=\"Product ASIN\", ylabel=\"Count\")\n",
    "ax.set_xticklabels(ax.get_xticklabels(), rotation=90);\n"
   ]
  },
  {
   "cell_type": "code",
   "execution_count": 12,
   "metadata": {},
   "outputs": [
    {
     "data": {
      "image/png": "[encoded data removed]",
      "text/plain": [
       "<Figure size 432x288 with 1 Axes>"
      ]
     },
     "metadata": {
      "needs_background": "light"
     },
     "output_type": "display_data"
    }
   ],
   "source": [
    "ax=sns.histplot(data=df[\"product_price\"].unique())\n",
    "ax.set(title=\"Price distribution\", xlabel=\"Price ($)\", ylabel=\"Count\");"
   ]
  },
  {
   "cell_type": "code",
   "execution_count": 13,
   "metadata": {},
   "outputs": [],
   "source": [
    "def translate(b:bool)->str:\n",
    "    return \"Yes\" if b else \"No\""
   ]
  },
  {
   "cell_type": "code",
   "execution_count": 14,
   "metadata": {},
   "outputs": [
    {
     "data": {
      "image/png": "[encoded data removed]",
      "text/plain": [
       "<Figure size 432x288 with 1 Axes>"
      ]
     },
     "metadata": {
      "needs_background": "light"
     },
     "output_type": "display_data"
    }
   ],
   "source": [
    "ax = sns.countplot(data=df, x=\"review_verified\")\n",
    "ax.set(title=\"Verified purchase\", xlabel=\"Verified?\", ylabel=\"Count\")\n",
    "ax.set_xticklabels([\"Yes\" if l.get_text()==\"True\" else \"No\" for l in list(ax.get_xticklabels())]);"
   ]
  },
  {
   "cell_type": "markdown",
   "metadata": {},
   "source": [
    "The distribution of the reviews with a verified purchase is also very typical of Amazon.com products."
   ]
  },
  {
   "cell_type": "code",
   "execution_count": 15,
   "metadata": {},
   "outputs": [],
   "source": [
    "df[\"review_is_helpful\"] = df[\"review_helpful_vote\"].apply(lambda x : x > 0)\n"
   ]
  },
  {
   "cell_type": "markdown",
   "metadata": {},
   "source": [
    "To study the helpful vote distribution we transform the feature to categorical (the majority of reviews are NOT helpful)"
   ]
  },
  {
   "cell_type": "code",
   "execution_count": 16,
   "metadata": {},
   "outputs": [
    {
     "data": {
      "image/png": "[encoded data removed]",
      "text/plain": [
       "<Figure size 432x288 with 1 Axes>"
      ]
     },
     "metadata": {
      "needs_background": "light"
     },
     "output_type": "display_data"
    }
   ],
   "source": [
    "ax = sns.countplot(data=df, x=\"review_is_helpful\")\n",
    "ax.set(title=\"Helpful reviews\", xlabel=\"Helpful?\", ylabel=\"Count\")\n",
    "ax.set_xticklabels([\"Yes\" if l.get_text() == \"True\" else \"No\" for l in list(ax.get_xticklabels())]);"
   ]
  },
  {
   "cell_type": "markdown",
   "metadata": {},
   "source": [
    "Only approximately the 17% of reviews are voted as helpful but the clients"
   ]
  },
  {
   "cell_type": "markdown",
   "metadata": {},
   "source": [
    "# EDA of the Text features"
   ]
  },
  {
   "cell_type": "markdown",
   "metadata": {},
   "source": [
    "Import the NLP library with a pre-trained NLP model. For the use we are intereseted in we can avoid loading in the SpaCy pipeline the `EntityRecognizer`"
   ]
  },
  {
   "cell_type": "code",
   "execution_count": 17,
   "metadata": {},
   "outputs": [
    {
     "name": "stderr",
     "output_type": "stream",
     "text": [
      "2022-02-24 20:51:13.791419: W tensorflow/stream_executor/platform/default/dso_loader.cc:60] Could not load dynamic library 'libcudart.so.11.0'; dlerror: libcudart.so.11.0: cannot open shared object file: No such file or directory\n",
      "2022-02-24 20:51:13.791516: I tensorflow/stream_executor/cuda/cudart_stub.cc:29] Ignore above cudart dlerror if you do not have a GPU set up on your machine.\n"
     ]
    }
   ],
   "source": [
    "import spacy\n",
    "nlp = spacy.load(\"en_core_web_md\", exclude=[\"ner\"])"
   ]
  },
  {
   "cell_type": "code",
   "execution_count": 18,
   "metadata": {},
   "outputs": [],
   "source": [
    "def explore(doc):\n",
    "    for t in doc:\n",
    "        print(t, t.dep_, t.pos_, [c for c in t.children], t.head)\n"
   ]
  },
  {
   "cell_type": "code",
   "execution_count": 19,
   "metadata": {},
   "outputs": [],
   "source": [
    "from SentimentAnalysis.aspect_estraction import rules"
   ]
  },
  {
   "cell_type": "code",
   "execution_count": 20,
   "metadata": {},
   "outputs": [],
   "source": [
    "sample_reviews = df.sample(15, random_state=42)"
   ]
  },
  {
   "cell_type": "code",
   "execution_count": 21,
   "metadata": {},
   "outputs": [
    {
     "name": "stdout",
     "output_type": "stream",
     "text": [
      "This candle has NO SCENT at all. The worst candle I have ever purchased. I'm never buying a Yankee candle again. First time purchase by this brand, and the last.\n",
      "<Aspect - candle | Modifier - NO SCENT | Rule 2>\n",
      "<Aspect - candle | Modifier - worst | Rule 1>\n",
      "Love love the smell\n",
      "<Aspect - Love | Modifier - smell | Rule 2>\n",
      "Very pleased with this scent!  Not too powerful either.  I actually don't burn them I put them in a candle warmer.  Very, very pleased!\n",
      "<Aspect - scent | Modifier - pleased | Rule 8>\n",
      "It does not burn evenly and just burns a hole down the center of the candle making it useless after 5 or 6 uses.\n",
      "The price was amazing compared to BBB.  I couldn’t believe Amazon was selling it for the that it was.  I will be going to Amazon for Yankee candles from now on.\n",
      "<Aspect - price | Modifier - amazing | Rule 3>\n",
      "Smells really good\n",
      "<Aspect - Smells | Modifier - good | Rule 3>\n",
      "I brought it because I thought it would make my house smell like a Christmas tree but the smell is very dull and I have to leave it lit for a very long time to get even a modest smell in the house from it. This was my first buying this brand of candle and expected a stronger scent based off of what people told me. I smelled other candles at Walmart from Yankee and they were stronger so I think it might just be this scent.\n",
      "<Aspect - time | Modifier - very long | Rule 1>\n",
      "<Aspect - smell | Modifier - dull | Rule 3>\n",
      "<Aspect - scent | Modifier - stronger | Rule 1>\n",
      "Disappointing. Scent was so, so faint, even in 4x3 half bath with door shut.Also, way too much soot, with wick trimmed.Yankee should consider more soy.This was my last Yankee Candle purchase\n",
      "<Aspect - bath | Modifier - half | Rule 1>\n",
      "<Aspect - Scent | Modifier - faint | Rule 3>\n",
      "<Aspect - bath | Modifier - faint | Rule 8>\n",
      "<Aspect - Yankee | Modifier - soy | Rule 2>\n",
      "Love the white gardenia scent of this candle. It’s very light and fresh.\n",
      "<Aspect - gardenia | Modifier - white | Rule 1>\n",
      "<Aspect - ’s | Modifier - light | Rule 3>\n",
      "I am very picky about my lavender products... always looking for things that contain pure essential oils of lavender.  I even grow three different species of lavender...so I think I know what lavender smells like.Yankee candles are among my favorites for quality candles in a huge variety of scents.  They burn evenly and cleanly.  I was excited to try their lavender candle.However, this is not lavender.  The lavender and vanilla candle by Yankee has more lavender than this... and even then that candle is vanilla dominant. This candle is very floral... reminds me of a flowery soap that was lavender colored and trying to be 'lavender'.  It smells good... it smells clean... it smells feminine... and it is yankee quality... but I am sorry, this isn't lavender.\n",
      "<Aspect - oils | Modifier - pure | Rule 1>\n",
      "<Aspect - am | Modifier - picky | Rule 3>\n",
      "<Aspect - products | Modifier - picky | Rule 8>\n",
      "<Aspect - species | Modifier - different | Rule 1>\n",
      "<Aspect - candles | Modifier - Yankee | Rule 1>\n",
      "<Aspect - was | Modifier - excited | Rule 3>\n",
      "<Aspect - is | Modifier - not lavender | Rule 3>\n",
      "<Aspect - lavender | Modifier - lavender | Rule 2>\n",
      "<Aspect - candle | Modifier - dominant | Rule 3>\n",
      "<Aspect - soap | Modifier - flowery | Rule 1>\n",
      "<Aspect - candle | Modifier - floral | Rule 3>\n",
      "<Aspect - smells | Modifier - good | Rule 3>\n",
      "<Aspect - smells | Modifier - clean | Rule 3>\n",
      "<Aspect - smells | Modifier - feminine | Rule 3>\n",
      "<Aspect - is | Modifier - not lavender | Rule 3>\n",
      "I absolutely LOVE this candle scent! I don't normally spend more than a few dollars on candles but I can totally justify this Yankee Candle purchase because the smell is so comforting and actually smells like sugar cookies baking. Perfect for relaxing while studying. The scent is worth the cost. I also noticed that the candle lasts a really long time compared to my bath and body works candles. The scent is strong enough to make my boyfriend believe I was baking cookies (lol), needless to say its a must! It's so hot in Texas year 'round practically but this candle makes it feel like Christmas!This came in a yankee candle branded box and was packaged with styrofoam and arrived on time. Great for gifting.Suggestion: go for it! you won't regret it if you love warm/gourmet scents!*I will be buying more to stock up because this is my favorite scent yet!\n",
      "<Aspect - smell | Modifier - comforting | Rule 3>\n",
      "<Aspect - scent | Modifier - worth | Rule 3>\n",
      "<Aspect - time | Modifier - really long | Rule 1>\n",
      "<Aspect - candle | Modifier - time | Rule 2>\n",
      "<Aspect - scent | Modifier - strong | Rule 3>\n",
      "<Aspect - box | Modifier - branded | Rule 1>\n",
      "<Aspect - 's | Modifier - hot | Rule 3>\n",
      "<Aspect - gourmet | Modifier - warm | Rule 1>\n",
      "I loved this candle!! It smells great!! I was worried it would be too sweet but it was perfect!!\n",
      "<Aspect - smells | Modifier - great | Rule 3>\n",
      "<Aspect - was | Modifier - worried | Rule 3>\n",
      "<Aspect - was | Modifier - perfect | Rule 3>\n",
      "I do not recommend this product at all. Yankee Candle is a Massachusetts based company and used to put out a good product. I am not sure if this an actual Yankee Candle or not as the label looks fake and says it’s made in the Czech Republic. I would think Yankee would put a stop to this if these are fakes. If these are in fact Yankee Candles the company has deteriorated greatly in quality. I try to contact customer service email about issues and get no response. They wanted me to do a survey so I mentioned all the issues. If your looking for a quality candle, I suggest Bath and Body Works that I have had excellent product experience. If your looking for a quality candle look elsewhere. What I received was a candle with the Yankee Candle label and on the bottom it states made in the Czech Republic. I ordered this candle thinking it was manufactured in the USA. The scent is non existent in my opinion and I didn’t receive what was shown in the Amazon product description. I noticed there is not a note on this item to report the item that you can click on and select what the problem is and describe it. That is probably because it is sold and shipped by Amazon! I contacted customer service and reported the problems with the description and not agreeing with the product that I received and they said it would be addressed. I keep checking and nothing's changed so my suggestion is first not to order the item in the first place and then if you got it, try it. If it's one from other than USA or real Yankee Candle, return it and Amazon maybe will stop selling it. The one I got came direct from Amazon and not a marketplace seller. The reviews you read are correct, it is a horrible Product with no scent. It just smells like an oily burnt smell it's terrible.\n",
      "<Aspect - company | Modifier - based | Rule 1>\n",
      "<Aspect - Candle | Modifier - company | Rule 7>\n",
      "<Aspect - Candle | Modifier - actual | Rule 1>\n",
      "<Aspect - am | Modifier - not sure | Rule 3>\n",
      "<Aspect - Yankee | Modifier - stop | Rule 2>\n",
      "<Aspect - company | Modifier - greatly | Rule 4>\n",
      "<Aspect - experience | Modifier - excellent | Rule 1>\n",
      "<Aspect - existent | Modifier - non | Rule 1>\n",
      "<Aspect - scent | Modifier - existent | Rule 3>\n",
      "<Aspect - Candle | Modifier - real | Rule 1>\n",
      "<Aspect - Amazon | Modifier - maybe | Rule 4>\n",
      "<Aspect - USA | Modifier - other | Rule 8>\n",
      "<Aspect - Amazon | Modifier - direct | Rule 8>\n",
      "<Aspect - Product | Modifier - horrible | Rule 1>\n",
      "<Aspect - reviews | Modifier - correct | Rule 3>\n",
      "<Aspect - smell | Modifier - oily | Rule 1>\n",
      "Absolutely No smell not sure if it’s an actual Yankee candle or it’s just an imitation there is no smell coming from the scandal that has awesome Reviews on Yankee candle so buyers please beware that this may not be the real Yankee candle your purchase\n",
      "<Aspect - candle | Modifier - actual | Rule 1>\n",
      "The candle came with the whole top smashed. The lid was placed upside down which seemed to have been done on purpose as if the candle was purposely sent damaged. Not very happy with this and returning it.\n",
      "<Aspect - candle | Modifier - purposely | Rule 4>\n"
     ]
    }
   ],
   "source": [
    "for doc in nlp.pipe(sample_reviews[\"review_content\"]):\n",
    "    print(doc)\n",
    "    for sentence in doc.sents:\n",
    "        for name, rule in rules.items():\n",
    "            if aspect:= rule(sentence) : print(aspect)\n"
   ]
  },
  {
   "cell_type": "markdown",
   "metadata": {},
   "source": [
    "# Negative reviews"
   ]
  },
  {
   "cell_type": "code",
   "execution_count": null,
   "metadata": {},
   "outputs": [],
   "source": [
    "# Negative reviews"
   ]
  },
  {
   "cell_type": "code",
   "execution_count": null,
   "metadata": {},
   "outputs": [],
   "source": [
    "nrev = df.query(\"review_rating<3\")"
   ]
  },
  {
   "cell_type": "code",
   "execution_count": null,
   "metadata": {},
   "outputs": [],
   "source": [
    "nrev"
   ]
  },
  {
   "cell_type": "code",
   "execution_count": null,
   "metadata": {},
   "outputs": [],
   "source": [
    "def find_smell(review)->bool:\n",
    "    return any(x in str(review).lower() for x in ('scent', 'smell', 'odor'))\n"
   ]
  },
  {
   "cell_type": "code",
   "execution_count": null,
   "metadata": {},
   "outputs": [],
   "source": [
    "smell = nrev[nrev[\"review_content\"].apply(\n",
    "    find_smell) | nrev[\"review_title\"].apply(find_smell)].copy()\n"
   ]
  },
  {
   "cell_type": "code",
   "execution_count": null,
   "metadata": {},
   "outputs": [],
   "source": [
    "smell.info()"
   ]
  },
  {
   "cell_type": "code",
   "execution_count": null,
   "metadata": {},
   "outputs": [],
   "source": [
    "smell['review_date'] = pd.to_datetime(smell['review_date'])\n"
   ]
  },
  {
   "cell_type": "code",
   "execution_count": null,
   "metadata": {},
   "outputs": [],
   "source": [
    "smellw=smell.groupby(pd.Grouper(key='review_date', freq='W')).count()\n"
   ]
  },
  {
   "cell_type": "code",
   "execution_count": null,
   "metadata": {},
   "outputs": [],
   "source": [
    "smellt=smellw[smellw.index.year >2015]\n"
   ]
  },
  {
   "cell_type": "code",
   "execution_count": null,
   "metadata": {},
   "outputs": [],
   "source": [
    "sns.lineplot(x=smellw.index, y=smellw['review_rating'])\n"
   ]
  },
  {
   "cell_type": "code",
   "execution_count": null,
   "metadata": {},
   "outputs": [],
   "source": [
    "sns.lineplot(x=smellw.index, y=smellw['review_rating'])\n"
   ]
  },
  {
   "cell_type": "code",
   "execution_count": null,
   "metadata": {},
   "outputs": [],
   "source": [
    "miny = smell['review_date'].min().year\n",
    "maxy = smell['review_date'].max().year\n"
   ]
  },
  {
   "cell_type": "code",
   "execution_count": null,
   "metadata": {},
   "outputs": [],
   "source": [
    "maxy"
   ]
  },
  {
   "cell_type": "code",
   "execution_count": null,
   "metadata": {},
   "outputs": [],
   "source": [
    "tmp = []\n",
    "for year in range(2016,2022):\n",
    "        tempdf = smellw[(smellw.index.year == year)]\n",
    "        tot = tempdf['review_rating'].sum()\n",
    "        tmp.append(tempdf['review_rating']/tot)\n",
    "\n"
   ]
  },
  {
   "cell_type": "code",
   "execution_count": null,
   "metadata": {},
   "outputs": [],
   "source": [
    "tmpsmell=pd.concat(tmp,axis=\"rows\")"
   ]
  },
  {
   "cell_type": "code",
   "execution_count": null,
   "metadata": {},
   "outputs": [],
   "source": [
    "sns.lineplot(x=tmpsmell.index, y=tmpsmell)\n"
   ]
  },
  {
   "cell_type": "code",
   "execution_count": null,
   "metadata": {},
   "outputs": [],
   "source": [
    "tmpsmell2=tmpsmell.rolling(window=7).mean()\n"
   ]
  },
  {
   "cell_type": "code",
   "execution_count": null,
   "metadata": {},
   "outputs": [],
   "source": [
    "sns.lineplot(x=tmpsmell2.index, y=tmpsmell2)\n"
   ]
  },
  {
   "cell_type": "code",
   "execution_count": null,
   "metadata": {},
   "outputs": [],
   "source": []
  }
 ],
 "metadata": {
  "interpreter": {
   "hash": "6d1e49581fd79a84b9b87fb79b5ebab21cc1d5ac02d36809a21c866e26750f3d"
  },
  "kernelspec": {
   "display_name": "Python 3.8.10 64-bit ('scraper-env': venv)",
   "language": "python",
   "name": "python3"
  },
  "language_info": {
   "codemirror_mode": {
    "name": "ipython",
    "version": 3
   },
   "file_extension": ".py",
   "mimetype": "text/x-python",
   "name": "python",
   "nbconvert_exporter": "python",
   "pygments_lexer": "ipython3",
   "version": "3.8.10"
  },
  "orig_nbformat": 4
 },
 "nbformat": 4,
 "nbformat_minor": 2
}
